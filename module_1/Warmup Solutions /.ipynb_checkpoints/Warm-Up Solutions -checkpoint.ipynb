{
 "cells": [
  {
   "cell_type": "markdown",
   "metadata": {},
   "source": [
    "# Warm-Up Solutions "
   ]
  },
  {
   "cell_type": "markdown",
   "metadata": {},
   "source": [
    "## Solution 1 "
   ]
  },
  {
   "cell_type": "code",
   "execution_count": 1,
   "metadata": {},
   "outputs": [],
   "source": [
    "#Take the following 2 lists and write a program that returns a list that contains only the elements that are common \n",
    "#between the 2 lists (without duplicates).\n",
    "\n",
    "thor_2_cast = ['Chris Hemsworth', 'Natalie Portman', 'Tom Hiddleston', 'Kat Dennings', 'Anthony Hopkins',\n",
    "               'Jaimie Alexander', 'Idris Elba']\n",
    "ragnarok_cast = ['Chris Hemsworth', 'Tessa Thompson', 'Cate Blanchett', 'Tom Hiddleston', 'Mark Ruffalo', \n",
    "                 'Jeff Goldblum', 'Karl Urban', 'Idris Elba', 'Anthony Hopkins']"
   ]
  },
  {
   "cell_type": "code",
   "execution_count": 2,
   "metadata": {},
   "outputs": [
    {
     "data": {
      "text/plain": [
       "['Chris Hemsworth', 'Anthony Hopkins', 'Idris Elba', 'Tom Hiddleston']"
      ]
     },
     "execution_count": 2,
     "metadata": {},
     "output_type": "execute_result"
    }
   ],
   "source": [
    "both_casts = list(set(thor_2_cast) & set(ragnarok_cast))\n",
    "both_casts"
   ]
  },
  {
   "cell_type": "code",
   "execution_count": 3,
   "metadata": {},
   "outputs": [
    {
     "name": "stdout",
     "output_type": "stream",
     "text": [
      "['Chris Hemsworth', 'Tom Hiddleston', 'Anthony Hopkins', 'Idris Elba']\n"
     ]
    }
   ],
   "source": [
    "both_casts = []\n",
    "\n",
    "for i in thor_2_cast:\n",
    "    if i in ragnarok_cast:\n",
    "##add common numbers to the new list\n",
    "        both_casts.append(i)\n",
    "    \n",
    "print(both_casts)"
   ]
  },
  {
   "cell_type": "code",
   "execution_count": 5,
   "metadata": {},
   "outputs": [
    {
     "name": "stdout",
     "output_type": "stream",
     "text": [
      "{'Anthony Hopkins', 'Chris Hemsworth', 'Tom Hiddleston', 'Idris Elba'}\n"
     ]
    }
   ],
   "source": [
    "both_casts = [x for x in thor_2_cast if x in ragnarok_cast]\n",
    "\n",
    "print(set(both_casts))"
   ]
  },
  {
   "cell_type": "markdown",
   "metadata": {},
   "source": [
    "## Solution 2 "
   ]
  },
  {
   "cell_type": "code",
   "execution_count": 8,
   "metadata": {},
   "outputs": [
    {
     "data": {
      "text/plain": [
       "461.81372999999996"
      ]
     },
     "execution_count": 8,
     "metadata": {},
     "output_type": "execute_result"
    }
   ],
   "source": [
    "'''Write a function that calculates the volume of a cylinder. The formula is the cylinders height multiplied \n",
    "by pi(3.14159) multiplied by the radius squared. The function should take in 2 arguments, the height and raduis.\n",
    "Do not forget to define pi within the functions scope. Call the function for a cylinder with a height of 12 and a\n",
    "radius of 3.5'''\n",
    "\n",
    "def cylinder_vol(height, radius): #function header, function name, arguments(parameters or inputs)\n",
    "    pi = 3.14159 #function body \n",
    "    return height * pi * radius ** 2 #return statement and expression to be evaluated as output\n",
    "cylinder_vol(12, 3.5) #functions call statement "
   ]
  },
  {
   "cell_type": "markdown",
   "metadata": {},
   "source": [
    "## Solution 3 "
   ]
  },
  {
   "cell_type": "code",
   "execution_count": 8,
   "metadata": {},
   "outputs": [
    {
     "name": "stdout",
     "output_type": "stream",
     "text": [
      "['Brian', 'Betty', 'Bella', 'Bruno']\n"
     ]
    }
   ],
   "source": [
    "'''Lambda expressions are functions that do not have a name. They are useful if you want to write a quick 'throw away'\n",
    "function that will not be of use later on in your code. I would like you to take this list of names and first write a \n",
    "function that uses filter() to create a new list, short_names, that are fewer than 8 characters long. Once you write \n",
    "the function try to write a lambda expression that does the same thing.'''\n",
    "\n",
    "names = [\"Benjamin\", \"Bernadette\", \"Brian\", \"Betty\", \"Bella\", \"Brunhilda\", \"Bruno\"]\n",
    "\n",
    "def is_short(name):\n",
    "    return len(name) < 8\n",
    "\n",
    "short_names = list(filter(is_short, names))\n",
    "print(short_names)\n",
    "\n",
    "\n",
    "short_names = list(filter(lambda x: len(x) < 8, names))\n",
    "print(short_names)"
   ]
  },
  {
   "cell_type": "code",
   "execution_count": null,
   "metadata": {},
   "outputs": [],
   "source": []
  }
 ],
 "metadata": {
  "kernelspec": {
   "display_name": "learn-env",
   "language": "python",
   "name": "learn-env"
  },
  "language_info": {
   "codemirror_mode": {
    "name": "ipython",
    "version": 3
   },
   "file_extension": ".py",
   "mimetype": "text/x-python",
   "name": "python",
   "nbconvert_exporter": "python",
   "pygments_lexer": "ipython3",
   "version": "3.7.3"
  }
 },
 "nbformat": 4,
 "nbformat_minor": 2
}
