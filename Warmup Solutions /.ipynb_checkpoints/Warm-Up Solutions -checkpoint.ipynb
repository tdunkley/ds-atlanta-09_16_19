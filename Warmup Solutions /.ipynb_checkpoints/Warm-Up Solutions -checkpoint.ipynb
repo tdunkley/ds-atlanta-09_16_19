{
 "cells": [
  {
   "cell_type": "markdown",
   "metadata": {},
   "source": [
    "# Warm-Up Solutions "
   ]
  },
  {
   "cell_type": "markdown",
   "metadata": {},
   "source": [
    "## Solution 1 "
   ]
  },
  {
   "cell_type": "code",
   "execution_count": 1,
   "metadata": {},
   "outputs": [],
   "source": [
    "#Take the following 2 lists and write a program that returns a list that contains only the elements that are common \n",
    "#between the 2 lists (without duplicates).\n",
    "\n",
    "thor_2_cast = ['Chris Hemsworth', 'Natalie Portman', 'Tom Hiddleston', 'Kat Dennings', 'Anthony Hopkins',\n",
    "               'Jaimie Alexander', 'Idris Elba']\n",
    "ragnarok_cast = ['Chris Hemsworth', 'Tessa Thompson', 'Cate Blanchett', 'Tom Hiddleston', 'Mark Ruffalo', \n",
    "                 'Jeff Goldblum', 'Karl Urban', 'Idris Elba', 'Anthony Hopkins']"
   ]
  },
  {
   "cell_type": "code",
   "execution_count": 2,
   "metadata": {},
   "outputs": [
    {
     "data": {
      "text/plain": [
       "['Chris Hemsworth', 'Anthony Hopkins', 'Idris Elba', 'Tom Hiddleston']"
      ]
     },
     "execution_count": 2,
     "metadata": {},
     "output_type": "execute_result"
    }
   ],
   "source": [
    "both_casts = list(set(thor_2_cast) & set(ragnarok_cast))\n",
    "both_casts"
   ]
  },
  {
   "cell_type": "code",
   "execution_count": 3,
   "metadata": {},
   "outputs": [
    {
     "name": "stdout",
     "output_type": "stream",
     "text": [
      "['Chris Hemsworth', 'Tom Hiddleston', 'Anthony Hopkins', 'Idris Elba']\n"
     ]
    }
   ],
   "source": [
    "both_casts = []\n",
    "\n",
    "for i in thor_2_cast:\n",
    "    if i in ragnarok_cast:\n",
    "##add common numbers to the new list\n",
    "        both_casts.append(i)\n",
    "    \n",
    "print(both_casts)"
   ]
  },
  {
   "cell_type": "code",
   "execution_count": 5,
   "metadata": {},
   "outputs": [
    {
     "name": "stdout",
     "output_type": "stream",
     "text": [
      "{'Anthony Hopkins', 'Chris Hemsworth', 'Tom Hiddleston', 'Idris Elba'}\n"
     ]
    }
   ],
   "source": [
    "both_casts = [x for x in thor_2_cast if x in ragnarok_cast]\n",
    "\n",
    "print(set(both_casts))"
   ]
  },
  {
   "cell_type": "markdown",
   "metadata": {},
   "source": [
    "## Solution 2 "
   ]
  },
  {
   "cell_type": "code",
   "execution_count": 8,
   "metadata": {},
   "outputs": [
    {
     "data": {
      "text/plain": [
       "461.81372999999996"
      ]
     },
     "execution_count": 8,
     "metadata": {},
     "output_type": "execute_result"
    }
   ],
   "source": [
    "'''Write a function that calculates the volume of a cylinder. The formula is the cylinders height multiplied \n",
    "by pi(3.14159) multiplied by the radius squared. The function should take in 2 arguments, the height and raduis.\n",
    "Do not forget to define pi within the functions scope. Call the function for a cylinder with a height of 12 and a\n",
    "radius of 3.5'''\n",
    "\n",
    "def cylinder_vol(height, radius): #function header, function name, arguments(parameters or inputs)\n",
    "    pi = 3.14159 #function body \n",
    "    return height * pi * radius ** 2 #return statement and expression to be evaluated as output\n",
    "cylinder_vol(12, 3.5) #functions call statement "
   ]
  },
  {
   "cell_type": "markdown",
   "metadata": {},
   "source": [
    "## Solution 3 "
   ]
  },
  {
   "cell_type": "code",
   "execution_count": 8,
   "metadata": {},
   "outputs": [
    {
     "name": "stdout",
     "output_type": "stream",
     "text": [
      "['Brian', 'Betty', 'Bella', 'Bruno']\n"
     ]
    }
   ],
   "source": [
    "'''Lambda expressions are functions that do not have a name. They are useful if you want to write a quick 'throw away'\n",
    "function that will not be of use later on in your code. I would like you to take this list of names and first write a \n",
    "function that uses filter() to create a new list, short_names, that are fewer than 8 characters long. Once you write \n",
    "the function try to write a lambda expression that does the same thing.'''\n",
    "\n",
    "names = [\"Benjamin\", \"Bernadette\", \"Brian\", \"Betty\", \"Bella\", \"Brunhilda\", \"Bruno\"]\n",
    "\n",
    "def is_short(name):\n",
    "    return len(name) < 8\n",
    "\n",
    "short_names = list(filter(is_short, names))\n",
    "print(short_names)\n",
    "\n",
    "\n",
    "short_names = list(filter(lambda x: len(x) < 8, names))\n",
    "print(short_names)"
   ]
  },
  {
   "cell_type": "markdown",
   "metadata": {},
   "source": [
    "## Solution 4 \n"
   ]
  },
  {
   "cell_type": "code",
   "execution_count": 8,
   "metadata": {},
   "outputs": [],
   "source": [
    "import pandas as pd\n",
    "import numpy as np\n",
    "import seaborn as sns\n",
    "import matplotlib.pyplot as plt\n",
    "%matplotlib inline"
   ]
  },
  {
   "cell_type": "code",
   "execution_count": 9,
   "metadata": {},
   "outputs": [
    {
     "name": "stdout",
     "output_type": "stream",
     "text": [
      "<class 'pandas.core.frame.DataFrame'>\n",
      "RangeIndex: 469 entries, 0 to 468\n",
      "Data columns (total 5 columns):\n",
      "Employee Name      469 non-null object\n",
      "Employee Status    469 non-null object\n",
      "Salary             469 non-null float64\n",
      "Pay Basis          469 non-null object\n",
      "Position Title     469 non-null object\n",
      "dtypes: float64(1), object(4)\n",
      "memory usage: 18.4+ KB\n"
     ]
    }
   ],
   "source": [
    "df = pd.read_csv('https://raw.githubusercontent.com/mathcoder3141/blog-data-files/master/Congress_White_House.csv')\n",
    "df.info()"
   ]
  },
  {
   "cell_type": "code",
   "execution_count": 10,
   "metadata": {},
   "outputs": [
    {
     "data": {
      "text/html": [
       "<div>\n",
       "<style scoped>\n",
       "    .dataframe tbody tr th:only-of-type {\n",
       "        vertical-align: middle;\n",
       "    }\n",
       "\n",
       "    .dataframe tbody tr th {\n",
       "        vertical-align: top;\n",
       "    }\n",
       "\n",
       "    .dataframe thead th {\n",
       "        text-align: right;\n",
       "    }\n",
       "</style>\n",
       "<table border=\"1\" class=\"dataframe\">\n",
       "  <thead>\n",
       "    <tr style=\"text-align: right;\">\n",
       "      <th></th>\n",
       "      <th>Employee Name</th>\n",
       "      <th>Employee Status</th>\n",
       "      <th>Salary</th>\n",
       "      <th>Pay Basis</th>\n",
       "      <th>Position Title</th>\n",
       "    </tr>\n",
       "  </thead>\n",
       "  <tbody>\n",
       "    <tr>\n",
       "      <th>0</th>\n",
       "      <td>Abrams, Adam W.</td>\n",
       "      <td>Employee</td>\n",
       "      <td>66300.0</td>\n",
       "      <td>Per Annum</td>\n",
       "      <td>WESTERN REGIONAL COMMUNICATIONS DIRECTOR</td>\n",
       "    </tr>\n",
       "    <tr>\n",
       "      <th>1</th>\n",
       "      <td>Adams, Ian H.</td>\n",
       "      <td>Employee</td>\n",
       "      <td>45000.0</td>\n",
       "      <td>Per Annum</td>\n",
       "      <td>EXECUTIVE ASSISTANT TO THE DIRECTOR OF SCHEDUL...</td>\n",
       "    </tr>\n",
       "    <tr>\n",
       "      <th>2</th>\n",
       "      <td>Agnew, David P.</td>\n",
       "      <td>Employee</td>\n",
       "      <td>93840.0</td>\n",
       "      <td>Per Annum</td>\n",
       "      <td>DEPUTY DIRECTOR OF INTERGOVERNMENTAL AFFAIRS</td>\n",
       "    </tr>\n",
       "    <tr>\n",
       "      <th>3</th>\n",
       "      <td>Albino, James</td>\n",
       "      <td>Employee</td>\n",
       "      <td>91800.0</td>\n",
       "      <td>Per Annum</td>\n",
       "      <td>SENIOR PROGRAM MANAGER</td>\n",
       "    </tr>\n",
       "    <tr>\n",
       "      <th>4</th>\n",
       "      <td>Aldy, Jr., Joseph E.</td>\n",
       "      <td>Employee</td>\n",
       "      <td>130500.0</td>\n",
       "      <td>Per Annum</td>\n",
       "      <td>SPECIAL ASSISTANT TO THE PRESIDENT FOR ENERGY ...</td>\n",
       "    </tr>\n",
       "  </tbody>\n",
       "</table>\n",
       "</div>"
      ],
      "text/plain": [
       "          Employee Name Employee Status    Salary  Pay Basis  \\\n",
       "0       Abrams, Adam W.        Employee   66300.0  Per Annum   \n",
       "1         Adams, Ian H.        Employee   45000.0  Per Annum   \n",
       "2       Agnew, David P.        Employee   93840.0  Per Annum   \n",
       "3        Albino, James         Employee   91800.0  Per Annum   \n",
       "4  Aldy, Jr., Joseph E.        Employee  130500.0  Per Annum   \n",
       "\n",
       "                                      Position Title  \n",
       "0           WESTERN REGIONAL COMMUNICATIONS DIRECTOR  \n",
       "1  EXECUTIVE ASSISTANT TO THE DIRECTOR OF SCHEDUL...  \n",
       "2       DEPUTY DIRECTOR OF INTERGOVERNMENTAL AFFAIRS  \n",
       "3                             SENIOR PROGRAM MANAGER  \n",
       "4  SPECIAL ASSISTANT TO THE PRESIDENT FOR ENERGY ...  "
      ]
     },
     "execution_count": 10,
     "metadata": {},
     "output_type": "execute_result"
    }
   ],
   "source": [
    "df.head()"
   ]
  },
  {
   "cell_type": "code",
   "execution_count": 11,
   "metadata": {},
   "outputs": [
    {
     "data": {
      "text/html": [
       "<div>\n",
       "<style scoped>\n",
       "    .dataframe tbody tr th:only-of-type {\n",
       "        vertical-align: middle;\n",
       "    }\n",
       "\n",
       "    .dataframe tbody tr th {\n",
       "        vertical-align: top;\n",
       "    }\n",
       "\n",
       "    .dataframe thead th {\n",
       "        text-align: right;\n",
       "    }\n",
       "</style>\n",
       "<table border=\"1\" class=\"dataframe\">\n",
       "  <thead>\n",
       "    <tr style=\"text-align: right;\">\n",
       "      <th></th>\n",
       "      <th>Salary</th>\n",
       "    </tr>\n",
       "  </thead>\n",
       "  <tbody>\n",
       "    <tr>\n",
       "      <th>count</th>\n",
       "      <td>469.000000</td>\n",
       "    </tr>\n",
       "    <tr>\n",
       "      <th>mean</th>\n",
       "      <td>82721.336887</td>\n",
       "    </tr>\n",
       "    <tr>\n",
       "      <th>std</th>\n",
       "      <td>41589.433381</td>\n",
       "    </tr>\n",
       "    <tr>\n",
       "      <th>min</th>\n",
       "      <td>0.000000</td>\n",
       "    </tr>\n",
       "    <tr>\n",
       "      <th>25%</th>\n",
       "      <td>45900.000000</td>\n",
       "    </tr>\n",
       "    <tr>\n",
       "      <th>50%</th>\n",
       "      <td>66300.000000</td>\n",
       "    </tr>\n",
       "    <tr>\n",
       "      <th>75%</th>\n",
       "      <td>113000.000000</td>\n",
       "    </tr>\n",
       "    <tr>\n",
       "      <th>max</th>\n",
       "      <td>179700.000000</td>\n",
       "    </tr>\n",
       "  </tbody>\n",
       "</table>\n",
       "</div>"
      ],
      "text/plain": [
       "              Salary\n",
       "count     469.000000\n",
       "mean    82721.336887\n",
       "std     41589.433381\n",
       "min         0.000000\n",
       "25%     45900.000000\n",
       "50%     66300.000000\n",
       "75%    113000.000000\n",
       "max    179700.000000"
      ]
     },
     "execution_count": 11,
     "metadata": {},
     "output_type": "execute_result"
    }
   ],
   "source": [
    "df.describe()"
   ]
  },
  {
   "cell_type": "code",
   "execution_count": 12,
   "metadata": {},
   "outputs": [
    {
     "data": {
      "text/plain": [
       "<matplotlib.axes._subplots.AxesSubplot at 0x11b874f98>"
      ]
     },
     "execution_count": 12,
     "metadata": {},
     "output_type": "execute_result"
    },
    {
     "data": {
      "image/png": "[encoded data removed]",
      "text/plain": [
       "<Figure size 432x288 with 1 Axes>"
      ]
     },
     "metadata": {
      "needs_background": "light"
     },
     "output_type": "display_data"
    }
   ],
   "source": [
    "sns.boxplot(data=df[\"Salary\"])"
   ]
  },
  {
   "cell_type": "code",
   "execution_count": 15,
   "metadata": {},
   "outputs": [
    {
     "data": {
      "text/plain": [
       "<matplotlib.axes._subplots.AxesSubplot at 0x1a1f5bccc0>"
      ]
     },
     "execution_count": 15,
     "metadata": {},
     "output_type": "execute_result"
    },
    {
     "data": {
      "image/png": "[encoded data removed]",
      "text/plain": [
       "<Figure size 432x288 with 1 Axes>"
      ]
     },
     "metadata": {
      "needs_background": "light"
     },
     "output_type": "display_data"
    }
   ],
   "source": [
    "sns.distplot(df['Salary'])"
   ]
  },
  {
   "cell_type": "markdown",
   "metadata": {},
   "source": [
    "## Solution 5 "
   ]
  },
  {
   "cell_type": "code",
   "execution_count": 1,
   "metadata": {},
   "outputs": [],
   "source": [
    "players = {\n",
    "    'L. Messi': {\n",
    "        'age': 31,\n",
    "        'nationality': 'Argentina',\n",
    "        'teams': ['Barcelona']\n",
    "    },\n",
    "    'Cristiano Ronaldo': {\n",
    "        'age': 33,\n",
    "        'nationality': 'Portugal',\n",
    "        'teams': ['Juventus', 'Real Madrid', 'Manchester United']\n",
    "    },\n",
    "    'Neymar Jr': {\n",
    "        'age': 26,\n",
    "        'nationality': 'Brazil',\n",
    "        'teams': ['Santos', 'Barcelona', 'Paris Saint-German']\n",
    "    },\n",
    "    'De Gea': {\n",
    "        'age': 27,\n",
    "        'nationality': 'Spain',\n",
    "        'teams': ['Atletico Madrid', 'Manchester United']\n",
    "    },\n",
    "    'K. De Bruyne': {\n",
    "        'age': 27,\n",
    "        'nationality': 'Belgium',\n",
    "        'teams': ['Chelsea', 'Manchester City']\n",
    "    }\n",
    "}"
   ]
  },
  {
   "cell_type": "markdown",
   "metadata": {},
   "source": [
    "Create a list of all the keys in the players dictionary. Use python's documentation on dictionaries for help if needed. Store the list of player names in a variable called player_names to use in the next question.\n",
    "\n"
   ]
  },
  {
   "cell_type": "code",
   "execution_count": 2,
   "metadata": {},
   "outputs": [],
   "source": [
    "player_names = list(players.keys())"
   ]
  },
  {
   "cell_type": "code",
   "execution_count": 3,
   "metadata": {},
   "outputs": [
    {
     "name": "stdout",
     "output_type": "stream",
     "text": [
      "['L. Messi', 'Cristiano Ronaldo', 'Neymar Jr', 'De Gea', 'K. De Bruyne']\n"
     ]
    }
   ],
   "source": [
    "print(player_names)"
   ]
  },
  {
   "cell_type": "markdown",
   "metadata": {},
   "source": [
    "Now that we have each players name, let's use that information to create a list of tuples containing each player's name along with their nationality. Store the list in a variable called player_nationalities. If you use a list comprehension, this can be done in a single line of code.. 2 lines if you include a print statement."
   ]
  },
  {
   "cell_type": "code",
   "execution_count": 4,
   "metadata": {},
   "outputs": [],
   "source": [
    "player_nationalities = [(name, players[name]['nationality']) for name in player_names]"
   ]
  },
  {
   "cell_type": "code",
   "execution_count": 5,
   "metadata": {},
   "outputs": [
    {
     "name": "stdout",
     "output_type": "stream",
     "text": [
      "[('L. Messi', 'Argentina'), ('Cristiano Ronaldo', 'Portugal'), ('Neymar Jr', 'Brazil'), ('De Gea', 'Spain'), ('K. De Bruyne', 'Belgium')]\n"
     ]
    }
   ],
   "source": [
    "print(player_nationalities)"
   ]
  },
  {
   "cell_type": "markdown",
   "metadata": {},
   "source": [
    "Now, define a function called get_players_on_team that returns a list of the names of all the players who have played on a given team.\n",
    "\n",
    "Your function should take two arguments:\n",
    "\n",
    "- a dictionary of player information\n",
    "- a string of the team you are trying to find the players for\n",
    "\n",
    "Be sure that your function has a return statement."
   ]
  },
  {
   "cell_type": "code",
   "execution_count": 6,
   "metadata": {},
   "outputs": [],
   "source": [
    "def get_players_on_team(dict_,team_name):\n",
    "    player_list = []\n",
    "    for player in dict_:\n",
    "        if team_name in dict_[player]['teams']:\n",
    "            player_list.append(player)\n",
    "    return player_list"
   ]
  },
  {
   "cell_type": "code",
   "execution_count": 7,
   "metadata": {},
   "outputs": [
    {
     "name": "stdout",
     "output_type": "stream",
     "text": [
      "['Cristiano Ronaldo', 'De Gea']\n"
     ]
    }
   ],
   "source": [
    "players_on_manchester_united = get_players_on_team(players,'Manchester United')\n",
    "print(players_on_manchester_united) # should return 'Cristiano Ronaldo', 'De Gea'"
   ]
  },
  {
   "cell_type": "markdown",
   "metadata": {},
   "source": [
    "## Solution 6 "
   ]
  },
  {
   "cell_type": "markdown",
   "metadata": {},
   "source": [
    "<font face=\"verdana\" size=\"3\">This is a dictionary of Scrabble letters and their representative values. Write a function that returns the score of a word that is passed to it. It should work for any word but lets all try cabbage.</font> ![](attachment:image.png)"
   ]
  },
  {
   "cell_type": "code",
   "execution_count": 2,
   "metadata": {},
   "outputs": [],
   "source": [
    "values = {\n",
    "    'a': 1,\n",
    "    'e': 1,\n",
    "    'i': 1,\n",
    "    'o': 1,\n",
    "    'u': 1,\n",
    "    'l': 1,\n",
    "    'n': 1,\n",
    "    'r': 1,\n",
    "    's': 1,\n",
    "    't': 1,\n",
    "    'd': 2,\n",
    "    'g': 2,\n",
    "    'b': 3,\n",
    "    'c': 3,\n",
    "    'm': 3,\n",
    "    'p': 3,\n",
    "    'f': 4,\n",
    "    'h': 4,\n",
    "    'v': 4,\n",
    "    'w': 4,\n",
    "    'y': 4,\n",
    "    'k': 5,\n",
    "    'j': 8,\n",
    "    'x': 8,\n",
    "    'q': 10,\n",
    "    'z': 10,\n",
    "}\n",
    "\n",
    "\n",
    "def score(word):\n",
    "    score = 0\n",
    "    for letter in word.lower():\n",
    "        score += values[letter]\n",
    "        \n",
    "    return score"
   ]
  },
  {
   "cell_type": "code",
   "execution_count": 3,
   "metadata": {},
   "outputs": [
    {
     "data": {
      "text/plain": [
       "14"
      ]
     },
     "execution_count": 3,
     "metadata": {},
     "output_type": "execute_result"
    }
   ],
   "source": [
    "score('cabbage')"
   ]
  },
  {
   "cell_type": "markdown",
   "metadata": {},
   "source": [
    "**OR**"
   ]
  },
  {
   "cell_type": "code",
   "execution_count": 4,
   "metadata": {},
   "outputs": [],
   "source": [
    "def score(word):\n",
    "    return sum(values[c] for c in word.lower())"
   ]
  },
  {
   "cell_type": "code",
   "execution_count": 5,
   "metadata": {},
   "outputs": [
    {
     "data": {
      "text/plain": [
       "14"
      ]
     },
     "execution_count": 5,
     "metadata": {},
     "output_type": "execute_result"
    }
   ],
   "source": [
    "score('cabbage')"
   ]
  },
  {
   "cell_type": "markdown",
   "metadata": {},
   "source": [
    "## Solution 7 -- List Comprehensions \n",
    "### Some helpful tips to remember about List Comprehensions \n",
    "\n",
    "\n",
    "**- List comprehensions are elegant ways to define and create lists based on existing lists.**\n",
    "\n",
    "**- List comprehensions are generally more compact and faster than normal functions and loops.**\n",
    "\n",
    "**- Try to avoid writing very long list comprehensions.**\n",
    "\n",
    "**- Every list comprehension can be rewritten using a for loop, but every for loop can’t be rewritten in the form of list comprehension.**\n",
    "\n",
    "Here is a list of Amber's Tv shows(some are her favorites, some are not). Create a for loop for the tv-shows that start with a B. Then do the same thing but with a list comprehension. "
   ]
  },
  {
   "cell_type": "code",
   "execution_count": 2,
   "metadata": {},
   "outputs": [],
   "source": [
    "tv_shows = ['Battlestar Gallactica', 'Lost', 'Star Trek', 'Breaking Bad', 'Babylon 5', 'The Americans', \n",
    "            'Downton Abbey', 'Survivor', 'Glow', 'Big Love', 'Game of Thrones']"
   ]
  },
  {
   "cell_type": "code",
   "execution_count": 3,
   "metadata": {},
   "outputs": [
    {
     "name": "stdout",
     "output_type": "stream",
     "text": [
      "['Battlestar Gallactica', 'Breaking Bad', 'Babylon 5', 'Big Love']\n"
     ]
    }
   ],
   "source": [
    "#for loop \n",
    "b_shows = []\n",
    "for title in tv_shows:\n",
    "    if title.startswith('B'):\n",
    "        b_shows.append(title)\n",
    "        \n",
    "print(b_shows)"
   ]
  },
  {
   "cell_type": "code",
   "execution_count": 5,
   "metadata": {},
   "outputs": [
    {
     "name": "stdout",
     "output_type": "stream",
     "text": [
      "['Battlestar Gallactica', 'Breaking Bad', 'Babylon 5', 'Big Love']\n"
     ]
    }
   ],
   "source": [
    "#list comprehension \n",
    "b_shows = [title for title in tv_shows if title.startswith('B')]\n",
    "print(b_shows)"
   ]
  },
  {
   "cell_type": "markdown",
   "metadata": {},
   "source": [
    "Here is the same list from above but now it is a list of tuples with a 1-5 grade Amber has given to each show. Create a list comprehension that prints Amber's highest rated shows"
   ]
  },
  {
   "cell_type": "code",
   "execution_count": 6,
   "metadata": {},
   "outputs": [],
   "source": [
    "#List of tuples with Amber's rating(1-5) of the shows \n",
    "tv_shows = [('Battlestar Gallactica', 5), ('Lost', 5), ('Star Trek', 5), ('Breaking Bad', 4), ('Babylon 5', 3), \n",
    "            ('The Americans', 3), ('Downton Abbey', 4), ('Survivor', 5), ('Glow', 2), ('Big Love', 3), \n",
    "            ('Game of Thrones', 4)]"
   ]
  },
  {
   "cell_type": "code",
   "execution_count": 7,
   "metadata": {},
   "outputs": [
    {
     "name": "stdout",
     "output_type": "stream",
     "text": [
      "['Battlestar Gallactica', 'Lost', 'Star Trek', 'Survivor']\n"
     ]
    }
   ],
   "source": [
    "best_shows = [title for(title, rating) in tv_shows if rating == 5]\n",
    "print(best_shows)"
   ]
  },
  {
   "cell_type": "markdown",
   "metadata": {},
   "source": [
    "Here is a link to a super helpful and short video on list comprehensions. If you skip to 3:20 there is a detailed overview of how to break down the problem above. \n",
    "https://www.youtube.com/watch?v=AhSvKGTh28Q"
   ]
  },
  {
   "cell_type": "markdown",
   "metadata": {},
   "source": [
    "## Solution 8  Probability "
   ]
  },
  {
   "cell_type": "markdown",
   "metadata": {},
   "source": [
    "#### Question 1"
   ]
  },
  {
   "cell_type": "markdown",
   "metadata": {},
   "source": [
    "### Remeber\n",
    "### P(Z = $\\frac{X-500}{100} \\leq \\frac{x-500}{100})$=0.75"
   ]
  },
  {
   "cell_type": "code",
   "execution_count": 7,
   "metadata": {},
   "outputs": [
    {
     "data": {
      "text/plain": [
       "0.6744897501960817"
      ]
     },
     "execution_count": 7,
     "metadata": {},
     "output_type": "execute_result"
    }
   ],
   "source": [
    "# We first need to find the corresponding z-scores such that\n",
    "#0.75% of the values below it or 25% above it.\n",
    "from scipy.stats import norm\n",
    "norm.isf(0.25)   "
   ]
  },
  {
   "cell_type": "markdown",
   "metadata": {},
   "source": [
    "###  $\\frac{x-500}{100}$=0.675, solving for x gives us x = 500+(0.675)(100)=567.5"
   ]
  },
  {
   "cell_type": "markdown",
   "metadata": {},
   "source": [
    "#### Question 2"
   ]
  },
  {
   "cell_type": "markdown",
   "metadata": {},
   "source": [
    "### a. P(A) = $\\frac{1}{\\binom{50}{5}}$ = 4.72 $\\times$ ${10^{-7}}$ \n",
    "\n",
    "### b. P(A) = ${1 - (1 - 4.72 \\times 10^{-7})}^{40 \\times 52}$ = 0.00098"
   ]
  },
  {
   "cell_type": "markdown",
   "metadata": {},
   "source": [
    "#### Question 3"
   ]
  },
  {
   "cell_type": "markdown",
   "metadata": {},
   "source": [
    "### P(A) = $\\frac{\\binom{13}{2}\\binom{4}{2}\\binom{4}{2}\\binom{44}{1}}{\\binom{52}{5}}$ = .04754"
   ]
  },
  {
   "cell_type": "markdown",
   "metadata": {},
   "source": [
    "## Solution 9 -- More for loops "
   ]
  },
  {
   "cell_type": "code",
   "execution_count": 15,
   "metadata": {},
   "outputs": [
    {
     "data": {
      "image/png": "[encoded data removed]",
      "text/plain": [
       "<PIL.JpegImagePlugin.JpegImageFile image mode=RGB size=450x400 at 0x108A48198>"
      ]
     },
     "metadata": {},
     "output_type": "display_data"
    }
   ],
   "source": [
    "from IPython.display import display\n",
    "from PIL import Image\n",
    "\n",
    "\n",
    "path=\"break_statement.jpg\"\n",
    "display(Image.open(path))"
   ]
  },
  {
   "cell_type": "code",
   "execution_count": 11,
   "metadata": {},
   "outputs": [
    {
     "name": "stdout",
     "output_type": "stream",
     "text": [
      "Current fruit : banana\n",
      "Current fruit : apple\n",
      "Current fruit : mango\n",
      "Current fruit : banana\n",
      "Current fruit : apple\n",
      "Current fruit : mango\n"
     ]
    }
   ],
   "source": [
    "'''Create a list of fruits then write a for loop that iterates over that list and returns\n",
    "each item. Try to do this 2 different ways and include a print statement that says \n",
    "Current fruit:'''\n",
    "\n",
    "fruits = ['banana', 'apple',  'mango'] \n",
    "\n",
    "for i in range(len(fruits)): \n",
    "   print('Current fruit :', fruits[i])\n",
    "\n",
    "for i in fruits:  \n",
    "    print('Current fruit :', i)\n",
    "\n"
   ]
  },
  {
   "cell_type": "markdown",
   "metadata": {},
   "source": [
    "## Solution 10 -- Control Flow "
   ]
  },
  {
   "cell_type": "markdown",
   "metadata": {},
   "source": [
    "**Question 1**- A number raised to the third power is called a cube. For example, the cube of 2 is written as 2**3 in Python. Make a list of the first 10 cubes (that is, the cube of each integer from 1 through 10), and use a for loop to print out the value of each cube. Try a list comprehension if you can. "
   ]
  },
  {
   "cell_type": "code",
   "execution_count": 1,
   "metadata": {},
   "outputs": [
    {
     "name": "stdout",
     "output_type": "stream",
     "text": [
      "1\n",
      "8\n",
      "27\n",
      "64\n",
      "125\n",
      "216\n",
      "343\n",
      "512\n",
      "729\n",
      "1000\n"
     ]
    }
   ],
   "source": [
    "cubes = []\n",
    "for number in range(1, 11):\n",
    "    cube = number**3\n",
    "    cubes.append(cube)\n",
    "\n",
    "for cube in cubes:\n",
    "    print(cube)"
   ]
  },
  {
   "cell_type": "code",
   "execution_count": 2,
   "metadata": {},
   "outputs": [
    {
     "name": "stdout",
     "output_type": "stream",
     "text": [
      "1\n",
      "8\n",
      "27\n",
      "64\n",
      "125\n",
      "216\n",
      "343\n",
      "512\n",
      "729\n",
      "1000\n"
     ]
    }
   ],
   "source": [
    "#list comprehension \n",
    "cubes = [number**3 for number in range(1,11)]\n",
    "\n",
    "for cube in cubes:\n",
    "    print(cube)"
   ]
  },
  {
   "cell_type": "markdown",
   "metadata": {},
   "source": [
    "**Question 2**\n",
    "Make a dictionary containing three major rivers and the country each river runs through. Use the Nile River in Egypt; the Mississippi River in the United States and the Yellow River in China. Then.. \n",
    "\n",
    "1. Use a loop to print a sentence about each river, such as \"The Nile runs through Egypt\".\n",
    "2. Use a loop to print the name of each river included in the dictionary.\n",
    "3. Use a loop to print the name of each country included in the dictionary."
   ]
  },
  {
   "cell_type": "code",
   "execution_count": 4,
   "metadata": {},
   "outputs": [
    {
     "name": "stdout",
     "output_type": "stream",
     "text": [
      "The Nile flows through Egypt.\n",
      "The Mississippi flows through United States.\n",
      "The Yellow flows through China.\n",
      "\n",
      "The following rivers are included in this data set:\n",
      "- Nile\n",
      "- Mississippi\n",
      "- Yellow\n",
      "\n",
      "The following countries are included in this data set:\n",
      "- Egypt\n",
      "- United States\n",
      "- China\n"
     ]
    }
   ],
   "source": [
    "rivers = {\n",
    "    'nile': 'egypt',\n",
    "    'mississippi': 'united states',\n",
    "    'yellow': 'china',\n",
    "    }\n",
    "\n",
    "for river, country in rivers.items():\n",
    "    print(\"The \" + river.title() + \" flows through \" + country.title() + \".\")\n",
    "\n",
    "print(\"\\nThe following rivers are included in this data set:\")\n",
    "for river in rivers.keys():\n",
    "    print(\"- \" + river.title())\n",
    "\n",
    "print(\"\\nThe following countries are included in this data set:\")\n",
    "for country in rivers.values():\n",
    "    print(\"- \" + country.title())"
   ]
  },
  {
   "cell_type": "code",
   "execution_count": null,
   "metadata": {},
   "outputs": [],
   "source": []
  }
 ],
 "metadata": {
  "kernelspec": {
   "display_name": "learn-env",
   "language": "python",
   "name": "learn-env"
  },
  "language_info": {
   "codemirror_mode": {
    "name": "ipython",
    "version": 3
   },
   "file_extension": ".py",
   "mimetype": "text/x-python",
   "name": "python",
   "nbconvert_exporter": "python",
   "pygments_lexer": "ipython3",
   "version": "3.7.3"
  }
 },
 "nbformat": 4,
 "nbformat_minor": 2
}
