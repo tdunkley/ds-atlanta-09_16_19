{
 "cells": [
  {
   "cell_type": "markdown",
   "metadata": {},
   "source": [
    "[New Feature Google Colab](https://colab.research.google.com/notebooks/data_table.ipynb#scrollTo=jcQEX_3vHOUz)"
   ]
  },
  {
   "cell_type": "markdown",
   "metadata": {},
   "source": [
    "##  Logistic Regression Continued"
   ]
  },
  {
   "cell_type": "code",
   "execution_count": 51,
   "metadata": {},
   "outputs": [],
   "source": [
    "from sklearn import datasets\n",
    "import numpy as np\n",
    "import seaborn as sns\n",
    "import matplotlib.pyplot as plt\n",
    "import warnings\n",
    "import pandas as pd\n",
    "from sklearn.model_selection import GridSearchCV\n",
    "from sklearn.linear_model import LogisticRegression\n",
    "warnings.filterwarnings('ignore')\n",
    "import scipy.stats as st\n",
    "import statsmodels.datasets\n",
    "%matplotlib inline\n",
    "sns.set(font_scale=1.5)"
   ]
  },
  {
   "cell_type": "code",
   "execution_count": 52,
   "metadata": {},
   "outputs": [],
   "source": [
    "bc=pd.read_csv('breast_cancer_scikit_onehot_dataset.csv')\n",
    "bc.head()\n",
    "target = bc['class'].map(lambda x: 1 if x == 4 else 0).values \n",
    "target = pd.Series(target)\n",
    "predictor=bc.drop(columns=['class'])"
   ]
  },
  {
   "cell_type": "code",
   "execution_count": 53,
   "metadata": {},
   "outputs": [],
   "source": [
    "from sklearn import preprocessing\n",
    "from sklearn.model_selection import train_test_split# Split dataset into training set and test set\n",
    "X_train, X_test, y_train, y_test = train_test_split(predictor, target, test_size=0.3,random_state=9) "
   ]
  },
  {
   "cell_type": "code",
   "execution_count": 54,
   "metadata": {},
   "outputs": [],
   "source": [
    "#Create a logistic Classifier\n",
    "log_reg = LogisticRegression()\n",
    "\n",
    "#Grid Search\n",
    "C= np.arange(.000001,2,.01)\n",
    "parameters = {'penalty':['l1', 'l2'], 'C':C,'class_weight':['balanced']}\n",
    "clf = GridSearchCV(log_reg, parameters, cv=5,verbose=0)\n",
    "\n",
    "# Obtain best model\n",
    "best_model = clf.fit(X_train,y_train)"
   ]
  },
  {
   "cell_type": "code",
   "execution_count": 137,
   "metadata": {},
   "outputs": [
    {
     "data": {
      "text/plain": [
       "array([[9.74317754e-01, 2.56822455e-02],\n",
       "       [1.19016985e-01, 8.80983015e-01],\n",
       "       [9.36638958e-01, 6.33610423e-02],\n",
       "       [2.30490776e-04, 9.99769509e-01],\n",
       "       [9.51106338e-01, 4.88936617e-02]])"
      ]
     },
     "execution_count": 137,
     "metadata": {},
     "output_type": "execute_result"
    }
   ],
   "source": [
    "yprob = best_model.predict_proba(X_test)\n",
    "yprob[:5]"
   ]
  },
  {
   "cell_type": "markdown",
   "metadata": {},
   "source": [
    "### Adjusting Thresholds"
   ]
  },
  {
   "cell_type": "markdown",
   "metadata": {},
   "source": [
    "- The Logistic Regression gives probability predictions for each class, in addition to the final classification. \n",
    "- By default, threshold for the prediction is set to 0.5, but we can adjust that threshold."
   ]
  },
  {
   "cell_type": "code",
   "execution_count": 151,
   "metadata": {},
   "outputs": [],
   "source": [
    "predicts = []\n",
    "for item in best_model.predict_proba(X_test):\n",
    "    if item[1] >= .40:\n",
    "        predicts.append(1)\n",
    "    else:\n",
    "        predicts.append(0)"
   ]
  },
  {
   "cell_type": "code",
   "execution_count": 152,
   "metadata": {},
   "outputs": [
    {
     "data": {
      "text/html": [
       "<div>\n",
       "<style scoped>\n",
       "    .dataframe tbody tr th:only-of-type {\n",
       "        vertical-align: middle;\n",
       "    }\n",
       "\n",
       "    .dataframe tbody tr th {\n",
       "        vertical-align: top;\n",
       "    }\n",
       "\n",
       "    .dataframe thead th {\n",
       "        text-align: right;\n",
       "    }\n",
       "</style>\n",
       "<table border=\"1\" class=\"dataframe\">\n",
       "  <thead>\n",
       "    <tr style=\"text-align: right;\">\n",
       "      <th></th>\n",
       "      <th>predicted 0</th>\n",
       "      <th>predicted 1</th>\n",
       "    </tr>\n",
       "  </thead>\n",
       "  <tbody>\n",
       "    <tr>\n",
       "      <th>actual 0</th>\n",
       "      <td>97</td>\n",
       "      <td>4</td>\n",
       "    </tr>\n",
       "    <tr>\n",
       "      <th>actual 1</th>\n",
       "      <td>3</td>\n",
       "      <td>67</td>\n",
       "    </tr>\n",
       "  </tbody>\n",
       "</table>\n",
       "</div>"
      ],
      "text/plain": [
       "          predicted 0  predicted 1\n",
       "actual 0           97            4\n",
       "actual 1            3           67"
      ]
     },
     "execution_count": 152,
     "metadata": {},
     "output_type": "execute_result"
    }
   ],
   "source": [
    "from sklearn.metrics import confusion_matrix\n",
    "conf_matrix = pd.DataFrame(confusion_matrix(y_test, predicts),\n",
    "                           index = ['actual 0', 'actual 1'], \n",
    "                           columns = ['predicted 0', 'predicted 1'])\n",
    "conf_matrix"
   ]
  },
  {
   "cell_type": "code",
   "execution_count": 153,
   "metadata": {},
   "outputs": [
    {
     "data": {
      "text/plain": [
       "0.9590643274853801"
      ]
     },
     "execution_count": 153,
     "metadata": {},
     "output_type": "execute_result"
    }
   ],
   "source": [
    "## accuracy\n",
    "(conf_matrix['predicted 0'][0] + conf_matrix['predicted 1'][1]) / len(predicts)"
   ]
  },
  {
   "cell_type": "markdown",
   "metadata": {},
   "source": [
    "### How does this change the Precision, Recall, and F1-Score?"
   ]
  },
  {
   "cell_type": "markdown",
   "metadata": {},
   "source": [
    "## More Logistic Regression"
   ]
  },
  {
   "cell_type": "markdown",
   "metadata": {},
   "source": [
    "Probability, odds,log, log-odds\n",
    "\n",
    "$$probability = \\frac {one\\ outcome} {all\\ outcomes}$$\n",
    "\n",
    "$$odds = \\frac {one\\ outcome} {all\\ other\\ outcomes}$$\n",
    "\n",
    "Examples:\n",
    "\n",
    "- Dice roll of 1: probability = 1/6, odds = 1/5\n",
    "\n",
    "\n",
    "- Even dice roll: probability = 3/6, odds = 3/3 = 1\n",
    "\n",
    "\n",
    "- Dice roll less than 5: probability = 4/6, odds = 4/2 = 2\n",
    "\n",
    "$$odds = \\frac {probability} {1 - probability}$$\n",
    "\n",
    "$$probability = \\frac {odds} {1 + odds}$$"
   ]
  },
  {
   "cell_type": "markdown",
   "metadata": {},
   "source": []
  },
  {
   "cell_type": "code",
   "execution_count": 7,
   "metadata": {},
   "outputs": [
    {
     "name": "stdout",
     "output_type": "stream",
     "text": [
      "Optimization terminated successfully.\n",
      "         Current function value: 0.390705\n",
      "         Iterations 7\n"
     ]
    },
    {
     "data": {
      "text/html": [
       "<table class=\"simpletable\">\n",
       "<caption>Logit Regression Results</caption>\n",
       "<tr>\n",
       "  <th>Dep. Variable:</th>         <td>y</td>        <th>  No. Observations:  </th>  <td>   398</td>  \n",
       "</tr>\n",
       "<tr>\n",
       "  <th>Model:</th>               <td>Logit</td>      <th>  Df Residuals:      </th>  <td>   389</td>  \n",
       "</tr>\n",
       "<tr>\n",
       "  <th>Method:</th>               <td>MLE</td>       <th>  Df Model:          </th>  <td>     8</td>  \n",
       "</tr>\n",
       "<tr>\n",
       "  <th>Date:</th>          <td>Sun, 03 Nov 2019</td> <th>  Pseudo R-squ.:     </th>  <td>0.3946</td>  \n",
       "</tr>\n",
       "<tr>\n",
       "  <th>Time:</th>              <td>16:42:56</td>     <th>  Log-Likelihood:    </th> <td> -155.50</td> \n",
       "</tr>\n",
       "<tr>\n",
       "  <th>converged:</th>           <td>True</td>       <th>  LL-Null:           </th> <td> -256.87</td> \n",
       "</tr>\n",
       "<tr>\n",
       "  <th> </th>                      <td> </td>        <th>  LLR p-value:       </th> <td>1.692e-39</td>\n",
       "</tr>\n",
       "</table>\n",
       "<table class=\"simpletable\">\n",
       "<tr>\n",
       "               <td></td>                  <th>coef</th>     <th>std err</th>      <th>z</th>      <th>P>|z|</th>  <th>[0.025</th>    <th>0.975]</th>  \n",
       "</tr>\n",
       "<tr>\n",
       "  <th>clump_thickness</th>             <td>   -0.3013</td> <td>    0.074</td> <td>   -4.066</td> <td> 0.000</td> <td>   -0.447</td> <td>   -0.156</td>\n",
       "</tr>\n",
       "<tr>\n",
       "  <th>uniformity_of_cell_size</th>     <td>    0.7766</td> <td>    0.162</td> <td>    4.796</td> <td> 0.000</td> <td>    0.459</td> <td>    1.094</td>\n",
       "</tr>\n",
       "<tr>\n",
       "  <th>uniformity_of_cell_shape</th>    <td>    0.2937</td> <td>    0.143</td> <td>    2.052</td> <td> 0.040</td> <td>    0.013</td> <td>    0.574</td>\n",
       "</tr>\n",
       "<tr>\n",
       "  <th>marginal_adhesion</th>           <td>    0.1837</td> <td>    0.090</td> <td>    2.030</td> <td> 0.042</td> <td>    0.006</td> <td>    0.361</td>\n",
       "</tr>\n",
       "<tr>\n",
       "  <th>single_epithelial_cell_size</th> <td>   -0.6654</td> <td>    0.121</td> <td>   -5.493</td> <td> 0.000</td> <td>   -0.903</td> <td>   -0.428</td>\n",
       "</tr>\n",
       "<tr>\n",
       "  <th>bare_nuclei</th>                 <td>    0.5732</td> <td>    0.080</td> <td>    7.192</td> <td> 0.000</td> <td>    0.417</td> <td>    0.729</td>\n",
       "</tr>\n",
       "<tr>\n",
       "  <th>bland_chromatin</th>             <td>   -0.6120</td> <td>    0.121</td> <td>   -5.046</td> <td> 0.000</td> <td>   -0.850</td> <td>   -0.374</td>\n",
       "</tr>\n",
       "<tr>\n",
       "  <th>normal_nucleoli</th>             <td>    0.2044</td> <td>    0.089</td> <td>    2.289</td> <td> 0.022</td> <td>    0.029</td> <td>    0.379</td>\n",
       "</tr>\n",
       "<tr>\n",
       "  <th>mitosis</th>                     <td>   -0.2964</td> <td>    0.102</td> <td>   -2.902</td> <td> 0.004</td> <td>   -0.497</td> <td>   -0.096</td>\n",
       "</tr>\n",
       "</table>"
      ],
      "text/plain": [
       "<class 'statsmodels.iolib.summary.Summary'>\n",
       "\"\"\"\n",
       "                           Logit Regression Results                           \n",
       "==============================================================================\n",
       "Dep. Variable:                      y   No. Observations:                  398\n",
       "Model:                          Logit   Df Residuals:                      389\n",
       "Method:                           MLE   Df Model:                            8\n",
       "Date:                Sun, 03 Nov 2019   Pseudo R-squ.:                  0.3946\n",
       "Time:                        16:42:56   Log-Likelihood:                -155.50\n",
       "converged:                       True   LL-Null:                       -256.87\n",
       "                                        LLR p-value:                 1.692e-39\n",
       "===============================================================================================\n",
       "                                  coef    std err          z      P>|z|      [0.025      0.975]\n",
       "-----------------------------------------------------------------------------------------------\n",
       "clump_thickness                -0.3013      0.074     -4.066      0.000      -0.447      -0.156\n",
       "uniformity_of_cell_size         0.7766      0.162      4.796      0.000       0.459       1.094\n",
       "uniformity_of_cell_shape        0.2937      0.143      2.052      0.040       0.013       0.574\n",
       "marginal_adhesion               0.1837      0.090      2.030      0.042       0.006       0.361\n",
       "single_epithelial_cell_size    -0.6654      0.121     -5.493      0.000      -0.903      -0.428\n",
       "bare_nuclei                     0.5732      0.080      7.192      0.000       0.417       0.729\n",
       "bland_chromatin                -0.6120      0.121     -5.046      0.000      -0.850      -0.374\n",
       "normal_nucleoli                 0.2044      0.089      2.289      0.022       0.029       0.379\n",
       "mitosis                        -0.2964      0.102     -2.902      0.004      -0.497      -0.096\n",
       "===============================================================================================\n",
       "\"\"\""
      ]
     },
     "execution_count": 7,
     "metadata": {},
     "output_type": "execute_result"
    }
   ],
   "source": [
    "import statsmodels.api as sm\n",
    "\n",
    "logit = sm.Logit(y_train, X_train)\n",
    "\n",
    "# fit the model\n",
    "logit_model = logit.fit()\n",
    "\n",
    "logit_model.summary()"
   ]
  },
  {
   "cell_type": "markdown",
   "metadata": {},
   "source": [
    "- Positive coefficients increase the log-odds of the response (and thus increase the probability)\n",
    "- Negative coefficients decrease the log-odds of the response (and thus decrease the probability)."
   ]
  },
  {
   "cell_type": "markdown",
   "metadata": {},
   "source": [
    "### Odds Ratio\n",
    "\n",
    "- **Odds Ratio** is the exponentiated coefficient, and can be interpreted as the multiplicative change in the odds for a one unit change in the predictor variable. "
   ]
  },
  {
   "cell_type": "code",
   "execution_count": 136,
   "metadata": {},
   "outputs": [
    {
     "data": {
      "text/plain": [
       "clump_thickness                0.739861\n",
       "uniformity_of_cell_size        2.174162\n",
       "uniformity_of_cell_shape       1.341427\n",
       "marginal_adhesion              1.201661\n",
       "single_epithelial_cell_size    0.514064\n",
       "bare_nuclei                    1.773929\n",
       "bland_chromatin                0.542273\n",
       "normal_nucleoli                1.226800\n",
       "mitosis                        0.743492\n",
       "dtype: float64"
      ]
     },
     "execution_count": 136,
     "metadata": {},
     "output_type": "execute_result"
    }
   ],
   "source": [
    "# odds ratio\n",
    "np.exp(logit_model.params)"
   ]
  },
  {
   "cell_type": "code",
   "execution_count": 50,
   "metadata": {},
   "outputs": [
    {
     "data": {
      "text/html": [
       "<div>\n",
       "<style scoped>\n",
       "    .dataframe tbody tr th:only-of-type {\n",
       "        vertical-align: middle;\n",
       "    }\n",
       "\n",
       "    .dataframe tbody tr th {\n",
       "        vertical-align: top;\n",
       "    }\n",
       "\n",
       "    .dataframe thead th {\n",
       "        text-align: right;\n",
       "    }\n",
       "</style>\n",
       "<table border=\"1\" class=\"dataframe\">\n",
       "  <thead>\n",
       "    <tr style=\"text-align: right;\">\n",
       "      <th></th>\n",
       "      <th>2.5%</th>\n",
       "      <th>97.5%</th>\n",
       "      <th>OR</th>\n",
       "    </tr>\n",
       "  </thead>\n",
       "  <tbody>\n",
       "    <tr>\n",
       "      <th>clump_thickness</th>\n",
       "      <td>0.639841</td>\n",
       "      <td>0.855516</td>\n",
       "      <td>0.739861</td>\n",
       "    </tr>\n",
       "    <tr>\n",
       "      <th>uniformity_of_cell_size</th>\n",
       "      <td>1.582847</td>\n",
       "      <td>2.986377</td>\n",
       "      <td>2.174162</td>\n",
       "    </tr>\n",
       "    <tr>\n",
       "      <th>uniformity_of_cell_shape</th>\n",
       "      <td>1.013203</td>\n",
       "      <td>1.775978</td>\n",
       "      <td>1.341427</td>\n",
       "    </tr>\n",
       "    <tr>\n",
       "      <th>marginal_adhesion</th>\n",
       "      <td>1.006360</td>\n",
       "      <td>1.434863</td>\n",
       "      <td>1.201661</td>\n",
       "    </tr>\n",
       "    <tr>\n",
       "      <th>single_epithelial_cell_size</th>\n",
       "      <td>0.405422</td>\n",
       "      <td>0.651818</td>\n",
       "      <td>0.514064</td>\n",
       "    </tr>\n",
       "    <tr>\n",
       "      <th>bare_nuclei</th>\n",
       "      <td>1.517386</td>\n",
       "      <td>2.073846</td>\n",
       "      <td>1.773929</td>\n",
       "    </tr>\n",
       "    <tr>\n",
       "      <th>bland_chromatin</th>\n",
       "      <td>0.427554</td>\n",
       "      <td>0.687772</td>\n",
       "      <td>0.542273</td>\n",
       "    </tr>\n",
       "    <tr>\n",
       "      <th>normal_nucleoli</th>\n",
       "      <td>1.029782</td>\n",
       "      <td>1.461512</td>\n",
       "      <td>1.226800</td>\n",
       "    </tr>\n",
       "    <tr>\n",
       "      <th>mitosis</th>\n",
       "      <td>0.608600</td>\n",
       "      <td>0.908283</td>\n",
       "      <td>0.743492</td>\n",
       "    </tr>\n",
       "  </tbody>\n",
       "</table>\n",
       "</div>"
      ],
      "text/plain": [
       "                                 2.5%     97.5%        OR\n",
       "clump_thickness              0.639841  0.855516  0.739861\n",
       "uniformity_of_cell_size      1.582847  2.986377  2.174162\n",
       "uniformity_of_cell_shape     1.013203  1.775978  1.341427\n",
       "marginal_adhesion            1.006360  1.434863  1.201661\n",
       "single_epithelial_cell_size  0.405422  0.651818  0.514064\n",
       "bare_nuclei                  1.517386  2.073846  1.773929\n",
       "bland_chromatin              0.427554  0.687772  0.542273\n",
       "normal_nucleoli              1.029782  1.461512  1.226800\n",
       "mitosis                      0.608600  0.908283  0.743492"
      ]
     },
     "execution_count": 50,
     "metadata": {},
     "output_type": "execute_result"
    }
   ],
   "source": [
    "# odds ratios and 95% CI\n",
    "params = logit_model.params\n",
    "conf = logit_model.conf_int()\n",
    "conf['OR'] = params\n",
    "conf.columns = ['2.5%', '97.5%', 'OR']\n",
    "np.exp(conf)"
   ]
  },
  {
   "cell_type": "markdown",
   "metadata": {},
   "source": [
    "## Comparing Logistic Regression with Other Models\n",
    "\n",
    "Advantages of logistic regression:\n",
    "\n",
    "- Highly interpretable (if you remember how)\n",
    "- Model training and prediction are fast\n",
    "- Not many parameters to tune\n",
    "- Can perform well with a small number of observations\n",
    "- Outputs well-calibrated predicted probabilities\n",
    "\n",
    "Disadvantages of logistic regression:\n",
    "\n",
    "- Presumes a linear relationship between the features and the log-odds of the response\n",
    "- Performance is (generally) not competitive with the best supervised learning methods\n",
    "- Can't automatically learn feature interactions"
   ]
  },
  {
   "cell_type": "markdown",
   "metadata": {},
   "source": [
    "## 2. Maximum Likelihood\n",
    "- [MLE Video](https://www.youtube.com/watch?v=XepXtl9YKwc)"
   ]
  },
  {
   "cell_type": "markdown",
   "metadata": {},
   "source": [
    "- Procedure of finding the value of one or more parameters for a given statistic which makes the known likelihood distribution a maximum. \n",
    "- Common way of thinking about optimizing parameters in statistics and machine learning.   \n",
    "- Conceptually when working with a probabilistic model with **unknown parameters**, the parameters which make the data have the highest probability are the most likely ones."
   ]
  },
  {
   "cell_type": "markdown",
   "metadata": {},
   "source": [
    "### Concept"
   ]
  },
  {
   "cell_type": "markdown",
   "metadata": {},
   "source": [
    " Suppose we have a model with parameters $\\boldsymbol{\\theta}$ and a collection of data points $X$.  \n",
    "\n",
    "We want to find the most likely value for the parameters of our model, that means we want to find\n",
    "\n",
    "$$\n",
    "\\mathop{\\mathrm{argmax}} P(\\boldsymbol{\\theta}\\mid X).\n",
    "$$\n",
    "\n",
    "By Bayes' rule, this is the same thing as\n",
    "\n",
    "$$\n",
    "\\mathop{\\mathrm{argmax}} \\frac{P(X \\mid \\boldsymbol{\\theta})P(\\boldsymbol{\\theta})}{P(X)}.\n",
    "$$\n",
    "\n",
    "The expression $P(X)$, a parameter agnostic probability of generating the data, does not depend on $\\boldsymbol{\\theta}$ at all, and so can be dropped without changing the best choice of $\\boldsymbol{\\theta}$.  Similarly, we may now posit that we have no prior assumption on which set of parameters are better than any others, so we may declare that $P(\\boldsymbol{\\theta})$ does not depend on theta either!  This, for instance, makes sense in a coin flipping example where the probability a coin comes up heads could be any value in $[0,1]$ without any prior belief it is fair or not (often referred to as an *uninformative prior*).  Thus we see that our application of Bayes' rule shows that our best choice of $\\boldsymbol{\\theta}$ is the maximum likelihood estimate for $\\boldsymbol{\\theta}$:\n",
    "\n",
    "$$\n",
    "\\hat{\\boldsymbol{\\theta}} = \\mathop{\\mathrm{argmax}} _ {\\boldsymbol{\\theta}} P(X \\mid \\boldsymbol{\\theta}).\n",
    "$$\n",
    "\n",
    "As a matter of common terminology, the probability of the data given the parameters ($P(X \\mid \\boldsymbol{\\theta})$) is referred to as the *likelihood*."
   ]
  },
  {
   "cell_type": "markdown",
   "metadata": {},
   "source": [
    "### Example Exponential Distribution"
   ]
  },
  {
   "cell_type": "code",
   "execution_count": 8,
   "metadata": {},
   "outputs": [],
   "source": [
    "data = statsmodels.datasets.heart.load_pandas().data"
   ]
  },
  {
   "cell_type": "code",
   "execution_count": 11,
   "metadata": {},
   "outputs": [
    {
     "data": {
      "text/html": [
       "<div>\n",
       "<style scoped>\n",
       "    .dataframe tbody tr th:only-of-type {\n",
       "        vertical-align: middle;\n",
       "    }\n",
       "\n",
       "    .dataframe tbody tr th {\n",
       "        vertical-align: top;\n",
       "    }\n",
       "\n",
       "    .dataframe thead th {\n",
       "        text-align: right;\n",
       "    }\n",
       "</style>\n",
       "<table border=\"1\" class=\"dataframe\">\n",
       "  <thead>\n",
       "    <tr style=\"text-align: right;\">\n",
       "      <th></th>\n",
       "      <th>survival</th>\n",
       "      <th>censors</th>\n",
       "      <th>age</th>\n",
       "    </tr>\n",
       "  </thead>\n",
       "  <tbody>\n",
       "    <tr>\n",
       "      <th>64</th>\n",
       "      <td>14.0</td>\n",
       "      <td>1.0</td>\n",
       "      <td>40.3</td>\n",
       "    </tr>\n",
       "    <tr>\n",
       "      <th>65</th>\n",
       "      <td>167.0</td>\n",
       "      <td>0.0</td>\n",
       "      <td>26.7</td>\n",
       "    </tr>\n",
       "    <tr>\n",
       "      <th>66</th>\n",
       "      <td>110.0</td>\n",
       "      <td>0.0</td>\n",
       "      <td>23.7</td>\n",
       "    </tr>\n",
       "    <tr>\n",
       "      <th>67</th>\n",
       "      <td>13.0</td>\n",
       "      <td>0.0</td>\n",
       "      <td>28.9</td>\n",
       "    </tr>\n",
       "    <tr>\n",
       "      <th>68</th>\n",
       "      <td>1.0</td>\n",
       "      <td>0.0</td>\n",
       "      <td>35.2</td>\n",
       "    </tr>\n",
       "  </tbody>\n",
       "</table>\n",
       "</div>"
      ],
      "text/plain": [
       "    survival  censors   age\n",
       "64      14.0      1.0  40.3\n",
       "65     167.0      0.0  26.7\n",
       "66     110.0      0.0  23.7\n",
       "67      13.0      0.0  28.9\n",
       "68       1.0      0.0  35.2"
      ]
     },
     "execution_count": 11,
     "metadata": {},
     "output_type": "execute_result"
    }
   ],
   "source": [
    "data.tail()"
   ]
  },
  {
   "cell_type": "markdown",
   "metadata": {},
   "source": [
    "- A censor of 0 means that the patient was alive at the end of the study, and thus we don't know the exact survival time. We only know that the patient survived at least the indicated number of days."
   ]
  },
  {
   "cell_type": "code",
   "execution_count": 23,
   "metadata": {},
   "outputs": [
    {
     "data": {
      "text/plain": [
       "0     15.0\n",
       "1      3.0\n",
       "2    624.0\n",
       "3     46.0\n",
       "4    127.0\n",
       "Name: survival, dtype: float64"
      ]
     },
     "execution_count": 23,
     "metadata": {},
     "output_type": "execute_result"
    }
   ],
   "source": [
    "data = data[data.censors == 1]\n",
    "survival = data.survival\n",
    "survival.head()"
   ]
  },
  {
   "cell_type": "markdown",
   "metadata": {},
   "source": [
    "### Plot of the Survival Data"
   ]
  },
  {
   "cell_type": "code",
   "execution_count": 27,
   "metadata": {},
   "outputs": [
    {
     "data": {
      "text/plain": [
       "Text(0, 0.5, 'Number of patients')"
      ]
     },
     "execution_count": 27,
     "metadata": {},
     "output_type": "execute_result"
    },
    {
     "data": {
      "image/png": "[encoded data removed]",
      "text/plain": [
       "<Figure size 720x288 with 2 Axes>"
      ]
     },
     "metadata": {},
     "output_type": "display_data"
    }
   ],
   "source": [
    "fig, (ax1, ax2) = plt.subplots(1, 2, figsize=(10, 4))\n",
    "\n",
    "ax1.plot(sorted(survival)[::-1], 'o')\n",
    "ax1.set_xlabel('Patient')\n",
    "ax1.set_ylabel('Survival time (days)')\n",
    "\n",
    "ax2.hist(survival, bins=15)\n",
    "ax2.set_xlabel('Survival time (days)')\n",
    "ax2.set_ylabel('Number of patients')"
   ]
  },
  {
   "cell_type": "markdown",
   "metadata": {},
   "source": [
    "- Let's try to fit an exponential distribution to the data. \n",
    "- According to this model, $S$ (number of days of survival) is an exponential random variable with the parameter $\\lambda$ , and the observations ${s_i}$ are sampled from this distribution."
   ]
  },
  {
   "cell_type": "markdown",
   "metadata": {},
   "source": [
    "Let's define the sample mean as:\n",
    "$$\\overline s = \\frac 1 n \\sum s_i$$"
   ]
  },
  {
   "cell_type": "markdown",
   "metadata": {},
   "source": [
    "The likelihood function of an exponential distribution is as follows, by definition\n",
    "\n",
    "$$\\mathcal{L}(\\lambda, \\{s_i\\}) = P(\\{s_i\\} \\mid \\lambda) = \\lambda^n \\exp\\left(-\\lambda n \\overline s\\right)$$"
   ]
  },
  {
   "cell_type": "markdown",
   "metadata": {},
   "source": [
    "The maximum likelihood estimate for the rate parameter is, by definition, the value ${λ}$ that maximizes the likelihood function. In other words, it is the parameter that maximizes the probability of observing the data, assuming that the observations are sampled from an exponential distribution.\n",
    "\n",
    "Here, it can be shown that the likelihood function has a maximum value when $λ= \\frac{1}{\\overline s}$, which is the maximum likelihood estimate for the rate parameter. Let's compute this parameter numerically:"
   ]
  },
  {
   "cell_type": "code",
   "execution_count": 165,
   "metadata": {},
   "outputs": [],
   "source": [
    "smean = survival.mean()\n",
    "rate = 1. / smean"
   ]
  },
  {
   "cell_type": "code",
   "execution_count": 159,
   "metadata": {},
   "outputs": [
    {
     "data": {
      "text/plain": [
       "1.3513513513513513"
      ]
     },
     "execution_count": 159,
     "metadata": {},
     "output_type": "execute_result"
    }
   ],
   "source": [
    "#To compare the fitted exponential distribution to the data, \n",
    "#we first need to generate linearly spaced values for the x-axis (days):\n",
    "smax = survival.max()\n",
    "days = np.linspace(0., smax, 1000)\n",
    "# bin size: interval between two\n",
    "# consecutive values in `days`\n",
    "dt = smax / 999."
   ]
  },
  {
   "cell_type": "code",
   "execution_count": 160,
   "metadata": {},
   "outputs": [],
   "source": [
    "#We can obtain the probability density function of the exponential distribution with SciPy. \n",
    "#The parameter is the scale, the inverse of the estimated rate.\n",
    "dist_exp = st.expon.pdf(days, scale=1./ rate)"
   ]
  },
  {
   "cell_type": "code",
   "execution_count": 39,
   "metadata": {},
   "outputs": [
    {
     "data": {
      "image/png": "[encoded data removed]",
      "text/plain": [
       "<Figure size 432x288 with 1 Axes>"
      ]
     },
     "metadata": {},
     "output_type": "display_data"
    }
   ],
   "source": [
    "nbins = 30\n",
    "fig, ax = plt.subplots(1, 1, figsize=(6, 4))\n",
    "ax.hist(survival, nbins)\n",
    "ax.plot(days, dist_exp * len(survival) * smax / nbins,\n",
    "        '-r', lw=3)\n",
    "ax.set_xlabel(\"Survival time (days)\")\n",
    "ax.set_ylabel(\"Number of patients\")\n",
    "plt.show()"
   ]
  },
  {
   "cell_type": "markdown",
   "metadata": {},
   "source": [
    "- The fit is far from perfect\n",
    "- We were able to find an analytical formula for the maximum likelihood estimate here. In more complex situations, that is not always possible. "
   ]
  },
  {
   "cell_type": "code",
   "execution_count": 161,
   "metadata": {},
   "outputs": [
    {
     "data": {
      "text/plain": [
       "(1.0, 222.2888888888889)"
      ]
     },
     "execution_count": 161,
     "metadata": {},
     "output_type": "execute_result"
    }
   ],
   "source": [
    "#Finding numerical maximum likelihood using SciPy\n",
    "dist = st.expon\n",
    "args = dist.fit(survival)\n",
    "args"
   ]
  },
  {
   "cell_type": "markdown",
   "metadata": {},
   "source": [
    "- We can use these parameters to perform a Kolmogorov-Smirnov test, which assesses the goodness of fit of the distribution with respect to the data. \n",
    "- The test is based on a distance between the empirical distribution function of the data and the cumulative distribution function (CDF) of the reference distribution.\n",
    "\n"
   ]
  },
  {
   "cell_type": "code",
   "execution_count": 166,
   "metadata": {},
   "outputs": [
    {
     "data": {
      "text/plain": [
       "KstestResult(statistic=0.36199693810792966, pvalue=8.647045785208746e-06)"
      ]
     },
     "execution_count": 166,
     "metadata": {},
     "output_type": "execute_result"
    }
   ],
   "source": [
    "st.kstest(survival, dist.cdf, args)"
   ]
  },
  {
   "cell_type": "markdown",
   "metadata": {},
   "source": [
    "- Here, the p-value is very low: the **null hypothesis** (stating that the observed data stems from an exponential distribution with a maximum likelihood rate parameter) can be rejected with high confidence. "
   ]
  },
  {
   "cell_type": "markdown",
   "metadata": {},
   "source": [
    "#### Birnbaum-Sanders Distribution\n",
    "- Typically used to model failure times."
   ]
  },
  {
   "cell_type": "code",
   "execution_count": 167,
   "metadata": {},
   "outputs": [
    {
     "data": {
      "text/plain": [
       "KstestResult(statistic=0.1877344610194689, pvalue=0.07321149700086325)"
      ]
     },
     "execution_count": 167,
     "metadata": {},
     "output_type": "execute_result"
    }
   ],
   "source": [
    "dist = st.fatiguelife\n",
    "args = dist.fit(survival)\n",
    "st.kstest(survival, dist.cdf, args)"
   ]
  },
  {
   "cell_type": "markdown",
   "metadata": {},
   "source": [
    "- This time, the p-value is about 0.073, so that we would not reject the null hypothesis with a five percent confidence level. "
   ]
  },
  {
   "cell_type": "code",
   "execution_count": 46,
   "metadata": {},
   "outputs": [
    {
     "data": {
      "image/png": "[encoded data removed]",
      "text/plain": [
       "<Figure size 432x288 with 1 Axes>"
      ]
     },
     "metadata": {},
     "output_type": "display_data"
    }
   ],
   "source": [
    "dist_fl = dist.pdf(days, *args)\n",
    "nbins = 30\n",
    "fig, ax = plt.subplots(1, 1, figsize=(6, 4))\n",
    "ax.hist(survival, nbins)\n",
    "ax.plot(days, dist_exp * len(survival) * smax / nbins,\n",
    "        '-r', lw=3, label='exp')\n",
    "ax.plot(days, dist_fl * len(survival) * smax / nbins,\n",
    "        '--g', lw=3, label='BS')\n",
    "ax.set_xlabel(\"Survival time (days)\")\n",
    "ax.set_ylabel(\"Number of patients\")\n",
    "ax.legend()\n",
    "plt.show()"
   ]
  },
  {
   "cell_type": "markdown",
   "metadata": {},
   "source": [
    "## Math Stuff\n",
    "\n",
    "$$\\begin{align*}\n",
    "\\mathcal{L}(\\lambda, \\{s_i\\}) &= P(\\{s_i\\} \\mid \\lambda) &\\\\\n",
    "&= \\prod_{i=1}^n P(s_i \\mid \\lambda) & \\textrm{(by independence of the $s_i$)}\\\\\n",
    "&= \\prod_{i=1}^n \\lambda \\exp(-\\lambda s_i) &\\\\\n",
    "&= \\lambda^n \\exp\\left(-\\lambda \\sum_{i=1}^n s_i\\right) &\\\\\n",
    "&= \\lambda^n \\exp\\left(-\\lambda n \\overline s\\right) &\n",
    "\\end{align*}$$\n",
    "\n",
    "### Find Max Using Derivative\n",
    "\n",
    "$$\\frac{d\\mathcal{L}(\\lambda, \\{s_i\\})}{d\\lambda} = \\lambda^{n-1} \\exp\\left(-\\lambda n \\overline s \\right) \\left( n - n \\lambda \\overline s \\right)$$\n",
    "\n",
    "$$\\lambda = \\frac {1}{\\overline s}$$"
   ]
  },
  {
   "cell_type": "code",
   "execution_count": null,
   "metadata": {},
   "outputs": [],
   "source": []
  }
 ],
 "metadata": {
  "kernelspec": {
   "display_name": "Python 3",
   "language": "python",
   "name": "python3"
  },
  "language_info": {
   "codemirror_mode": {
    "name": "ipython",
    "version": 3
   },
   "file_extension": ".py",
   "mimetype": "text/x-python",
   "name": "python",
   "nbconvert_exporter": "python",
   "pygments_lexer": "ipython3",
   "version": "3.7.3"
  }
 },
 "nbformat": 4,
 "nbformat_minor": 2
}
