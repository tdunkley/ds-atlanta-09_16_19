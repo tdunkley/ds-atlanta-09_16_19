{
 "cells": [
  {
   "cell_type": "markdown",
   "metadata": {},
   "source": [
    "# Probability Code Warmup"
   ]
  },
  {
   "cell_type": "markdown",
   "metadata": {},
   "source": [
    "## Question 1\n",
    "Suppose that the scores on a standardized test are normally distributed with $\\mu = 500$ and \n",
    "$\\sigma = 100$. What is the 75th percentile score for this test?"
   ]
  },
  {
   "cell_type": "markdown",
   "metadata": {},
   "source": [
    "## Question 2\n",
    "a. Suppose in a weekly state lottery, five of the numbers 0, 1, .. ., 49 are selected without replacement at random, and someone holding exactly those numbers wins the lottery. What is the probability that someone holding one ticket will be the winner in a given week?\n",
    "\n",
    "b. Suppose this person buys a ticket every week for 40 years. What is the probability\n",
    "that the person will win the lottery on at least one week? Assume in your calculation that\n",
    "the weekly lotteries are all mutually independent.\n",
    "\n",
    "Hint: for part b using complement.\n"
   ]
  },
  {
   "cell_type": "markdown",
   "metadata": {},
   "source": [
    "## Question 3\n",
    "In five-card poker, a player is given 5 cards from a\n",
    "full deck of 52 cards at random. What is the probability of obtaining two pairs?"
   ]
  }
 ],
 "metadata": {
  "kernelspec": {
   "display_name": "Python 3",
   "language": "python",
   "name": "python3"
  },
  "language_info": {
   "codemirror_mode": {
    "name": "ipython",
    "version": 3
   },
   "file_extension": ".py",
   "mimetype": "text/x-python",
   "name": "python",
   "nbconvert_exporter": "python",
   "pygments_lexer": "ipython3",
   "version": "3.7.3"
  }
 },
 "nbformat": 4,
 "nbformat_minor": 2
}
