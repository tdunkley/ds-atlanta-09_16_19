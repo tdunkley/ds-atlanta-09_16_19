{
 "cells": [
  {
   "cell_type": "markdown",
   "metadata": {},
   "source": [
    "# Effect Size \n"
   ]
  },
  {
   "cell_type": "markdown",
   "metadata": {},
   "source": [
    "\"After four decades of severe criticism, the ritual of null hypothesis significance testing---mechanical dichotomous decisions around a sacred .05 criterion---still persist. This article reviews the problems with this practice...\" ... \"What's wrong with [null hypothesis significance testing]? Well, among many other things, it does not tell us what we want to know, and we so much want to know what we want to know that, out of desperation, we nevertheless believe that it does!\" (Cohen 1994)"
   ]
  },
  {
   "cell_type": "markdown",
   "metadata": {},
   "source": [
    "### Effect Size\n",
    "\n",
    "Q: OK! it is statistically significant but is it also practically significant too?\n",
    "\n",
    "Let's try to explain what we mean.\n",
    "\n",
    "\n",
    "__Scenerio__: Are SAT-Math scores at one college greater than the known population mean of 500?\n",
    "\n",
    "Data is collected from a random sample of 1,200 students at that college. The population standard deviation is known to be 100. \n",
    "- Find a one-sample mean test and determine $p-value$. \n",
    "- Then determine whether null hypothesis should be rejected ($\\alpha = 0.05$).\n",
    "\n",
    "\n",
    "Suppose the null-hypothesis is \n",
    "\n",
    "$H_{0}$: $\\mu = 500$\n",
    "\n",
    "Write alternative hypothesis."
   ]
  },
  {
   "cell_type": "code",
   "execution_count": null,
   "metadata": {},
   "outputs": [],
   "source": [
    "import numpy as np"
   ]
  },
  {
   "cell_type": "code",
   "execution_count": null,
   "metadata": {},
   "outputs": [],
   "source": [
    "np.random.seed(1800)\n",
    "sample = np.random.normal(loc = 506, scale = 100, size = 1200)\n",
    "\n",
    "## population mean is mu = 500\n",
    "mu = 500\n",
    "\n",
    "## Sample mean is x1_bar\n",
    "x1_bar = sample.mean()\n",
    "n1 = 1200\n",
    "std_error = 100/ np.sqrt(n1)\n",
    "## x1_bar is 506.0888\n",
    "## Is this significant difference from population mean 500?"
   ]
  },
  {
   "cell_type": "code",
   "execution_count": null,
   "metadata": {},
   "outputs": [],
   "source": [
    "from scipy import stats"
   ]
  },
  {
   "cell_type": "code",
   "execution_count": null,
   "metadata": {},
   "outputs": [],
   "source": [
    "z = (x1_bar - mu)/ std_error\n",
    "\n",
    "## let's use survival function (sf) sf = 1 - cdf\n",
    "\n",
    "## is this significant for alpha = 0.05?\n",
    "stats.norm.sf(z)"
   ]
  },
  {
   "cell_type": "markdown",
   "metadata": {},
   "source": [
    "For some tests there are commonly used measures of effect size. For example, when comparing the difference in two means we often compute Cohen's which is the difference between the two observed sample means in standard deviation units. \n",
    "\n",
    "$$ \\begin{gather}\n",
    " d = \\frac{\\bar{x}_{1} - \\bar{x}_{2}}{s_{p}}\\\\\n",
    "\\text{where} \\qquad s_{p} = \\sqrt{\\frac{(n_{1}-1)s_{1}^{2} + (n_{2}-1)s_{2}^{2} }{n_{1} + n_{2} - 2}}\n",
    "\\end{gather}$$\n",
    "\n",
    "\n",
    "and if we have only one sample we use \n",
    "\n",
    "$$d = \\frac{\\bar{x}_{1} - \\mu}{s}$$\n",
    "\n",
    "\n",
    "where $s$ is the standard deviation of the sample"
   ]
  },
  {
   "cell_type": "code",
   "execution_count": null,
   "metadata": {},
   "outputs": [],
   "source": [
    "d = (x1_bar - mu)/ 100\n",
    "\n",
    "d"
   ]
  },
  {
   "cell_type": "markdown",
   "metadata": {},
   "source": [
    "Below are commonly used standards when interpreting Cohen's d:\n",
    "\n",
    "\n",
    "<img src=\"cohens_d.png\" alt=\"Cohen's d-table\"\n",
    "\ttitle=\"Cohen's d-statistic\" width=\"450\" height=\"400\" />\n",
    "    \n",
    "Image Source: [PennState Stat 200](https://newonlinecourses.science.psu.edu/stat200/lesson/6/6.4)"
   ]
  },
  {
   "cell_type": "code",
   "execution_count": null,
   "metadata": {},
   "outputs": [],
   "source": [
    "## in fact the similar result with less data would look like:\n",
    "n1 = 9\n",
    "np.random.seed(1800)\n",
    "sample = np.random.normal(loc = 506, scale = 100, size = n1)\n",
    "\n",
    "## population mean is mu = 500\n",
    "mu = 500\n",
    "\n",
    "## Sample mean is x1_bar\n",
    "x1_bar = sample.mean()\n",
    "n1 = 12\n",
    "std_error = 100/ np.sqrt(n1)\n",
    "## x1_bar is 506.0888\n",
    "## Is this significant difference from population mean 500?\n",
    "\n",
    "z = (x1_bar - mu)/ std_error\n",
    "\n",
    "## recall that sf = 1 - cdf\n",
    "\n",
    "## is this significant for alpha = 0.05 and with two-tailed test?\n",
    "stats.norm.sf(z)\n",
    "\n"
   ]
  },
  {
   "cell_type": "markdown",
   "metadata": {},
   "source": [
    "Note that for small sample size we didn't get a significant result but for very big sample size we were able to show that the mean is significantly different from the population. So the take away is, we should support the use of p_values with other statistics."
   ]
  },
  {
   "cell_type": "markdown",
   "metadata": {},
   "source": [
    "## Resources\n",
    "\n",
    "- Null Hypothesis Significance Testing: A Review of an Old and Continuing Controversy - RS Nickerson\n",
    "\n",
    "- [Penn State Statistics Courses](https://newonlinecourses.science.psu.edu/stat200/lesson/6/6.4)\n",
    "\n",
    "- [Statistics For Business and Economics - 9.6](https://www.amazon.com/Statistics-Business-Economics-Book-Only/dp/0324783256)"
   ]
  }
 ],
 "metadata": {
  "kernelspec": {
   "display_name": "Python 3",
   "language": "python",
   "name": "python3"
  },
  "language_info": {
   "codemirror_mode": {
    "name": "ipython",
    "version": 3
   },
   "file_extension": ".py",
   "mimetype": "text/x-python",
   "name": "python",
   "nbconvert_exporter": "python",
   "pygments_lexer": "ipython3",
   "version": "3.7.3"
  }
 },
 "nbformat": 4,
 "nbformat_minor": 2
}
