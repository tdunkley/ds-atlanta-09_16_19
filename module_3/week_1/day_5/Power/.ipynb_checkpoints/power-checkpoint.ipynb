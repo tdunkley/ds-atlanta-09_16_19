{
 "cells": [
  {
   "cell_type": "markdown",
   "metadata": {},
   "source": [
    "\n",
    "## Introduction\n",
    "\n",
    "- Recall $\\alpha$ is the probability of making Type-I error when the null hypothesis is true.\n",
    "\n",
    "- What about the the probability of making Type - II errors?\n",
    "\n",
    " - (We will call this probability as $\\beta$.)\n",
    " \n",
    "- Power of a statistical test measures an experiment's ability to reject a null-hypothesis when $H_{a}$ is true.\n",
    " \n",
    "\n"
   ]
  },
  {
   "cell_type": "markdown",
   "metadata": {},
   "source": [
    "__Scenerio__\n",
    "\n",
    "Source of this example is: [Statistics For Business and Economics - 9.6](https://www.amazon.com/Statistics-Business-Economics-Book-Only/dp/0324783256)\n",
    "\n",
    "Assume that design specifications require batteries from the supplier to have a mean useful life of at least 120 hours. To evaluate the quality of an incoming shipment, a sample of 36 batteries will be selected and tested. On the basis of the sample, a decision must be made to accept the shipment of batteries or to return it to the supplier because of poor quality. Let μ denote the mean number of hours of useful life for batteries in the shipment. The null and alternative hypotheses about the population mean follow.\n",
    "\n",
    "- $H_{0}$: $\\mu \\geq 120$\n",
    "\n",
    "- $H_{a}$: $\\mu < 120$\n",
    "\n",
    "- and $\\alpha = 0.05$\n",
    "\n",
    "- assume that the population $\\sigma =12$\n",
    "\n",
    "\n",
    "Recall that assuming  population variance $\\sigma$ is known we can use:\n",
    "\n",
    "$$ z  = \\frac{\\bar{x} - \\mu}{\\frac{\\sigma}{\\sqrt{n}}}$$\n",
    "\n",
    "Let's find the critical z-score: (Note that we are using one-tailed hypothesis testing here)"
   ]
  },
  {
   "cell_type": "code",
   "execution_count": null,
   "metadata": {},
   "outputs": [],
   "source": [
    "from scipy import stats\n",
    "import numpy as np"
   ]
  },
  {
   "cell_type": "code",
   "execution_count": null,
   "metadata": {},
   "outputs": [],
   "source": [
    "z_critical = stats.norm.ppf(0.05)\n",
    "\n",
    "z_critical"
   ]
  },
  {
   "cell_type": "markdown",
   "metadata": {},
   "source": [
    "Note that for any z-score lower than this we can reject the null-hypothesis.\n",
    "\n",
    "Q: Can we find the corresponding critical $\\bar{x}$ values? \n",
    "\n",
    "\n",
    "$$\n",
    "\\begin{equation}\n",
    "    z = \\frac{\\bar{x} - \\mu}{\\frac{\\sigma}{\\sqrt{n}}} \\leq -1.64485 \\\\\n",
    "    \\bar{x} - \\mu \\leq -1.64485 \\frac{\\sigma}{\\sqrt{n}} \\\\\n",
    "    \\bar{x} \\leq \\mu  -1.64485 \\frac{\\sigma}{\\sqrt{n}}\n",
    "\\end{equation}\n",
    "$$"
   ]
  },
  {
   "cell_type": "code",
   "execution_count": null,
   "metadata": {},
   "outputs": [],
   "source": [
    "## find x_bar explicitly using mu = 120, sigma =12, n =36\n"
   ]
  },
  {
   "cell_type": "markdown",
   "metadata": {},
   "source": [
    "Therefore we can say that for any values $\\bar{x} \\leq 116.71$ reject the null-hypothesis and don't reject the null hypothesis for $\\bar{x} > 116.71$. Recall that type - II errors are when we failed to reject null-hypothesis even though it is not true. \n",
    "\n",
    "Now let's suppose the true mean is $\\mu = 112$. Now the probability of type-II error is basically the probability of having a mean greater than 116.71 given the true mean is $112$.\n",
    "\n",
    "In terms of z-scores:\n",
    "\n",
    "$$\n",
    "\\begin{equation}\n",
    "    \\bar{x} \\geq 116.71 \\\\ \n",
    "    \\bar{x} - 112 \\geq 116.71 - 112 \\\\\n",
    "    z = \\frac{\\bar{x} - 112}{\\frac{12}{\\sqrt{36}}} \\geq \\frac{116.71 - 112}{\\frac{12}{\\sqrt{36}}} \\\\\n",
    "\\end{equation}\n",
    "$$\n"
   ]
  },
  {
   "cell_type": "code",
   "execution_count": null,
   "metadata": {},
   "outputs": [],
   "source": [
    "numerator = (116.71-112)\n",
    "\n",
    "denominator = 12/ np.sqrt(36)\n",
    "\n",
    "right_hand_side = numerator/denominator\n",
    "\n",
    "right_hand_side"
   ]
  },
  {
   "cell_type": "markdown",
   "metadata": {},
   "source": [
    "The probability of making type-II error is probability of getting a z_score bigger than 2.3549.\n",
    "\n",
    "Let's use scipy.stats to calculate this probability."
   ]
  },
  {
   "cell_type": "code",
   "execution_count": null,
   "metadata": {},
   "outputs": [],
   "source": [
    "stats.norm.sf(right_hand_side)"
   ]
  },
  {
   "cell_type": "markdown",
   "metadata": {},
   "source": [
    "__Power__ = 1- $\\beta$ = 1 - 0.00926\n",
    "\n",
    "<img src=\"power_of_test.png\" alt=\"Cohen's d-table\"\n",
    "\ttitle=\"Power of a test\" width=\"550\" height=\"500\" />\n",
    "    \n",
    "Note that if the true mean would be $\\mu = 115$, then we would have:"
   ]
  },
  {
   "cell_type": "code",
   "execution_count": null,
   "metadata": {},
   "outputs": [],
   "source": [
    "numerator = (116.71 - 115)\n",
    "\n",
    "denominator = 12/ np.sqrt(36)\n",
    "\n",
    "## when the z_score is higher than this score we make a type II error\n",
    "right_hand_side = numerator/denominator\n",
    "\n",
    "## probability of type-II error\n",
    "beta = stats.norm.sf(right_hand_side)\n",
    "print('beta for the test: {}'.format(stats.norm.sf(right_hand_side)))\n",
    "\n",
    "## power of the test for mu = 115\n",
    "\n",
    "power = 1 - beta\n",
    "\n",
    "print('Power of the test: {}'.format(power))"
   ]
  },
  {
   "cell_type": "markdown",
   "metadata": {},
   "source": [
    "## Resources\n",
    "\n",
    "- Null Hypothesis Significance Testing: A Review of an Old and Continuing Controversy - RS Nickerson\n",
    "\n",
    "- [Penn State Statistics Courses](https://newonlinecourses.science.psu.edu/stat200/lesson/6/6.4)\n",
    "\n",
    "- [Statistics For Business and Economics - 9.6](https://www.amazon.com/Statistics-Business-Economics-Book-Only/dp/0324783256)"
   ]
  }
 ],
 "metadata": {
  "kernelspec": {
   "display_name": "Python 3",
   "language": "python",
   "name": "python3"
  },
  "language_info": {
   "codemirror_mode": {
    "name": "ipython",
    "version": 3
   },
   "file_extension": ".py",
   "mimetype": "text/x-python",
   "name": "python",
   "nbconvert_exporter": "python",
   "pygments_lexer": "ipython3",
   "version": "3.7.3"
  }
 },
 "nbformat": 4,
 "nbformat_minor": 2
}
