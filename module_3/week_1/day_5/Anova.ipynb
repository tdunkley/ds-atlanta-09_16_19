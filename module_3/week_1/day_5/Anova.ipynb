{
 "cells": [
  {
   "cell_type": "markdown",
   "metadata": {},
   "source": [
    "# ANOVA \n",
    "\n",
    "## Introduction\n",
    "\n",
    "ANOVA (Analysis of Variance) is a method for generalizing statistical tests to multiple groups. As you'll see, ANOVA  analyses the overall variance of a dataset by partitioning the total sum of square of deviations (from the mean) into sum of squares for each of these groups and sum of squares for error. By comparing statistical test for multiple groups, it can serve as a useful alternative to the $t$-tests you've encountered thus far, when you wish to test multiple factors simultaneously.\n",
    "\n",
    "## Objectives\n",
    "\n",
    "You will be able to:\n",
    "* Use ANOVA for testing multiple pairwise comparisons\n",
    "* Understand and explain the methodology behind ANOVA tests\n",
    "\n",
    "### Analysis of Variance:\n",
    "\n",
    "- The main problem is: Can we determine whether a set of population means are the same or different from samples from these populations.\n",
    "\n",
    "- Natural Question: Hint: What other test we were using for similar procedure - why can't we use the same (or modified version) here? (Let's count if we have 10 different population how many tests we should do in total?)\n",
    "\n",
    "- Even if we were able to use above method, what happens to the significance levels?\n",
    "\n",
    "The main idea: We will compare variances within the group with the total variance to be able to say that whether population means are equal or not.\n",
    "\n",
    "__Wait!!__ Why use the variance to compare the means?\n",
    "\n",
    "Let's check this from a scenerio!!"
   ]
  },
  {
   "cell_type": "code",
   "execution_count": 1,
   "metadata": {},
   "outputs": [],
   "source": [
    "import numpy as np\n",
    "\n",
    "import pandas as pd\n",
    "\n",
    "import matplotlib.pyplot as plt\n"
   ]
  },
  {
   "cell_type": "code",
   "execution_count": 10,
   "metadata": {},
   "outputs": [
    {
     "data": {
      "text/html": [
       "<div>\n",
       "<style scoped>\n",
       "    .dataframe tbody tr th:only-of-type {\n",
       "        vertical-align: middle;\n",
       "    }\n",
       "\n",
       "    .dataframe tbody tr th {\n",
       "        vertical-align: top;\n",
       "    }\n",
       "\n",
       "    .dataframe thead th {\n",
       "        text-align: right;\n",
       "    }\n",
       "</style>\n",
       "<table border=\"1\" class=\"dataframe\">\n",
       "  <thead>\n",
       "    <tr style=\"text-align: right;\">\n",
       "      <th></th>\n",
       "      <th>0</th>\n",
       "      <th>1</th>\n",
       "      <th>2</th>\n",
       "      <th>3</th>\n",
       "      <th>4</th>\n",
       "      <th>5</th>\n",
       "    </tr>\n",
       "  </thead>\n",
       "  <tbody>\n",
       "    <tr>\n",
       "      <th>0</th>\n",
       "      <td>5.929400</td>\n",
       "      <td>9.992166</td>\n",
       "      <td>16.333820</td>\n",
       "      <td>2.056823</td>\n",
       "      <td>3.922580</td>\n",
       "      <td>19.020042</td>\n",
       "    </tr>\n",
       "    <tr>\n",
       "      <th>1</th>\n",
       "      <td>6.054200</td>\n",
       "      <td>10.220579</td>\n",
       "      <td>14.933036</td>\n",
       "      <td>4.961636</td>\n",
       "      <td>18.781563</td>\n",
       "      <td>21.459459</td>\n",
       "    </tr>\n",
       "    <tr>\n",
       "      <th>2</th>\n",
       "      <td>6.023264</td>\n",
       "      <td>10.263283</td>\n",
       "      <td>14.510727</td>\n",
       "      <td>4.665054</td>\n",
       "      <td>10.134260</td>\n",
       "      <td>11.606881</td>\n",
       "    </tr>\n",
       "    <tr>\n",
       "      <th>3</th>\n",
       "      <td>5.899604</td>\n",
       "      <td>9.765582</td>\n",
       "      <td>15.383706</td>\n",
       "      <td>4.828708</td>\n",
       "      <td>7.539921</td>\n",
       "      <td>19.480032</td>\n",
       "    </tr>\n",
       "    <tr>\n",
       "      <th>4</th>\n",
       "      <td>6.134685</td>\n",
       "      <td>9.773628</td>\n",
       "      <td>14.730597</td>\n",
       "      <td>4.387935</td>\n",
       "      <td>5.092563</td>\n",
       "      <td>15.243967</td>\n",
       "    </tr>\n",
       "  </tbody>\n",
       "</table>\n",
       "</div>"
      ],
      "text/plain": [
       "          0          1          2         3          4          5\n",
       "0  5.929400   9.992166  16.333820  2.056823   3.922580  19.020042\n",
       "1  6.054200  10.220579  14.933036  4.961636  18.781563  21.459459\n",
       "2  6.023264  10.263283  14.510727  4.665054  10.134260  11.606881\n",
       "3  5.899604   9.765582  15.383706  4.828708   7.539921  19.480032\n",
       "4  6.134685   9.773628  14.730597  4.387935   5.092563  15.243967"
      ]
     },
     "execution_count": 10,
     "metadata": {},
     "output_type": "execute_result"
    }
   ],
   "source": [
    "## case1\n",
    "\n",
    "sample1 = np.random.normal(loc = 6, scale = 0.1, size = 20)\n",
    "\n",
    "sample2 = np.random.normal(loc = 10, scale = 0.2, size = 20)\n",
    "\n",
    "sample3 = np.random.normal(loc = 15, scale = 1, size = 20)\n",
    "\n",
    "## case2\n",
    "\n",
    "sample4 = np.random.normal(loc = 6, scale = 3, size = 20)\n",
    "sample5 = np.random.normal(loc = 10, scale = 5, size = 20)\n",
    "sample6 = np.random.normal(loc = 15, scale = 5, size = 20)\n",
    "\n",
    "df = pd.DataFrame(data = [sample1, sample2, sample3, sample4, sample5, sample6]).T\n",
    "\n",
    "df.head()"
   ]
  },
  {
   "cell_type": "code",
   "execution_count": 11,
   "metadata": {},
   "outputs": [],
   "source": [
    "df.rename(columns= {0:'s1', 1:'s2', 2:'s3', 3:'s4', 4:'s5', 5:'s6'}, inplace= True)"
   ]
  },
  {
   "cell_type": "code",
   "execution_count": 8,
   "metadata": {},
   "outputs": [],
   "source": [
    "import seaborn as sns"
   ]
  },
  {
   "cell_type": "code",
   "execution_count": 9,
   "metadata": {},
   "outputs": [
    {
     "data": {
      "image/png": "[encoded data removed]",
      "text/plain": [
       "<Figure size 432x288 with 1 Axes>"
      ]
     },
     "metadata": {
      "needs_background": "light"
     },
     "output_type": "display_data"
    }
   ],
   "source": [
    "df.boxplot()\n",
    "plt.tight_layout()"
   ]
  },
  {
   "cell_type": "code",
   "execution_count": 12,
   "metadata": {},
   "outputs": [
    {
     "name": "stdout",
     "output_type": "stream",
     "text": [
      "Means of the samples are:  6.031213326868185 9.950221728695407 14.954726134853479 \n",
      " 5.598235991584722 10.557295735886726 15.551540903286744\n"
     ]
    }
   ],
   "source": [
    "print('Means of the samples are: ', sample1.mean(), \n",
    "      sample2.mean(),\n",
    "      sample3.mean(), '\\n',\n",
    "      sample4.mean(),\n",
    "      sample5.mean(),\n",
    "      sample6.mean())"
   ]
  },
  {
   "cell_type": "markdown",
   "metadata": {},
   "source": [
    "Note that here even though the variations of $\\{s_1, s_2, s_3\\}$ equals to the variations of the means in $\\{s_4, s_5, s_6\\}$ we can see this as a stronger evidence to argue that the population means are different in the first group.\n",
    "\n",
    "__Summary__ ANOVA: comparison of the variance among the means of the populations to the variance among sample observations within the individual populations.\n",
    "\n",
    "### Notation\n",
    "\n",
    "- $t$: total number of populations\n",
    "\n",
    "- $n_{i}$ number of observations within the sample $i$ drawn from the population $i$.\n",
    "\n",
    "- $y_{ij}$: the measurement for the $j$th observation from the $i$th sample.\n",
    "\n",
    "- $\\mu_{i}$ is the mean for the $i$th population.\n",
    "\n",
    "__observations__\n",
    "\n",
    "$n = \\sum\\limits_{i} n_{i}$ is the total number of observations\n",
    "\n",
    "### Hypotheses\n",
    "\n",
    "-  $H_{0}: \\mu_{1} = \\mu_{2} = \\cdots = \\mu_{t}$ \n",
    "\n",
    "- $H_{a}$: at least one of the equality is not satisfied"
   ]
  },
  {
   "cell_type": "code",
   "execution_count": 13,
   "metadata": {},
   "outputs": [],
   "source": [
    "from scipy.stats import f"
   ]
  },
  {
   "cell_type": "code",
   "execution_count": 14,
   "metadata": {},
   "outputs": [],
   "source": [
    "## let's create a data set first\n",
    "\n",
    "\n",
    "## sample sizes for different groups\n",
    "n1 =20\n",
    "n2=20\n",
    "n3 =20\n",
    "n4 = 20\n",
    "\n",
    "## number of groups\n",
    "t = 4"
   ]
  },
  {
   "cell_type": "code",
   "execution_count": 15,
   "metadata": {},
   "outputs": [],
   "source": [
    "np.random.seed(100719)\n",
    "\n",
    "x1 = np.random.normal(loc = 950, scale = 100, size = n1)\n",
    "\n",
    "x2 = np.random.normal(loc = 928, scale = np.sqrt(3800), size = n2)\n",
    "\n",
    "x3 = np.random.normal(loc = 938, scale = np.sqrt(13617), size = n3)\n",
    "\n",
    "x4 = np.random.normal(loc = 1116, scale = np.sqrt(23000), size = n4)\n",
    "\n",
    "# df = pd.DataFrame(data = np.stack([x1, x2,x3,x4], axis = 1), columns= ['s1', 's2', 's3', 's4'],\n",
    "#                   index = np.arange(1, len(x2)+1))"
   ]
  },
  {
   "cell_type": "code",
   "execution_count": 16,
   "metadata": {},
   "outputs": [],
   "source": [
    "# df.head()"
   ]
  },
  {
   "cell_type": "markdown",
   "metadata": {},
   "source": [
    "## Hypothesis\n",
    "\n",
    "$H_{0}$: $\\mu_{1} = \\mu_{2} = \\mu_{3} = \\mu_{4}$\n",
    "\n",
    "$H_{a}$: not all means are equal.\n",
    "\n",
    "For more details on how to construct hypotheses testing with ANOVA model please check:\n",
    "\n",
    "[Penn State - The 7 Step Process of Statistical Hypothesis Testing](https://newonlinecourses.science.psu.edu/stat502/lesson/1/1.2)\n",
    "\n",
    "\n",
    "\n",
    "\n",
    "\n"
   ]
  },
  {
   "cell_type": "code",
   "execution_count": 18,
   "metadata": {},
   "outputs": [],
   "source": [
    "## Let's find these quantities with Python\n",
    "\n",
    "all_data = np.stack([x1, x2,x3,x4], axis = 1)\n",
    "overall_mean = all_data.mean()"
   ]
  },
  {
   "cell_type": "code",
   "execution_count": 19,
   "metadata": {},
   "outputs": [
    {
     "name": "stdout",
     "output_type": "stream",
     "text": [
      "554712.4606001556\n"
     ]
    }
   ],
   "source": [
    "## Note that all_data is a (20,4) numpy_ndarray\n",
    "ss_total = ((all_data - overall_mean)**2).sum()\n",
    "\n",
    "## Function that calculates between group error\n",
    "def ss_between_groups(sample_list):\n",
    "    X_bar = np.stack(sample_list, axis=1).mean()\n",
    "    terms = [len(sample)*(sample.mean() - X_bar)**2 for sample in sample_list]\n",
    "    return np.sum(terms)\n",
    "print(ss_between_groups([x1, x2, x3, x4]))"
   ]
  },
  {
   "cell_type": "code",
   "execution_count": 20,
   "metadata": {},
   "outputs": [
    {
     "name": "stdout",
     "output_type": "stream",
     "text": [
      "1043475.4297664801\n"
     ]
    }
   ],
   "source": [
    "## Note that right now we can find the error within the groups\n",
    "## by simply subtracting ss_between_groups from ss_total\n",
    "\n",
    "ss_within = ss_total - ss_between_groups([x1, x2, x3, x4])\n",
    "\n",
    "print(ss_within)"
   ]
  },
  {
   "cell_type": "code",
   "execution_count": 21,
   "metadata": {},
   "outputs": [],
   "source": [
    "## Or we can apply the formula:\n",
    "## A function that calculates within group error\n",
    "def ss_within_groups(sample_list):\n",
    "    terms = [(sample - sample.mean())**2 for sample in sample_list]\n",
    "    return np.sum(terms)"
   ]
  },
  {
   "cell_type": "code",
   "execution_count": 25,
   "metadata": {},
   "outputs": [
    {
     "name": "stdout",
     "output_type": "stream",
     "text": [
      "3\n",
      "76\n"
     ]
    }
   ],
   "source": [
    "## Degrees of freedom of numerator\n",
    "dfn = len([x1, x2, x3, x4]) - 1\n",
    "print(dfn)\n",
    "## Degree of freedom of denominator\n",
    "dfd = n1+n2+n3+n4 - len([x1, x2, x3,x4])\n",
    "print(dfd)"
   ]
  },
  {
   "cell_type": "code",
   "execution_count": 26,
   "metadata": {},
   "outputs": [
    {
     "name": "stdout",
     "output_type": "stream",
     "text": [
      "Within Group Error 1043475.4297664786\n",
      "Between Group Error 554712.4606001556\n",
      "Mean Squared Error Between Groups 184904.15353338522\n",
      "Mean Squared Error Within Groups 13729.939865348402\n"
     ]
    }
   ],
   "source": [
    "print('Within Group Error', ss_within_groups([x1, x2, x3, x4]))\n",
    "print('Between Group Error', ss_between_groups([x1, x2, x3, x4]))\n",
    "print('Mean Squared Error Between Groups', ss_between_groups([x1, x2, x3, x4])/dfn)\n",
    "print('Mean Squared Error Within Groups', ss_within_groups([x1, x2, x3, x4])/ dfd)"
   ]
  },
  {
   "cell_type": "code",
   "execution_count": 27,
   "metadata": {},
   "outputs": [
    {
     "name": "stdout",
     "output_type": "stream",
     "text": [
      "13.467222387480808\n"
     ]
    }
   ],
   "source": [
    "MSE_between_groups = ss_between_groups([x1, x2, x3, x4])/dfn\n",
    "MSE_within_groups = ss_within_groups([x1, x2, x3, x4])/ dfd\n",
    "\n",
    "## F_score comes from the ratio\n",
    "F_score = MSE_between_groups/ MSE_within_groups\n",
    "print(F_score)"
   ]
  },
  {
   "cell_type": "code",
   "execution_count": 28,
   "metadata": {},
   "outputs": [
    {
     "data": {
      "text/plain": [
       "F_onewayResult(statistic=13.46722238748083, pvalue=3.9030691818738904e-07)"
      ]
     },
     "execution_count": 28,
     "metadata": {},
     "output_type": "execute_result"
    }
   ],
   "source": [
    "## Or we can apply directly scipy.stats's f_oneway method \n",
    "\n",
    "import scipy.stats\n",
    "scipy.stats.f_oneway(x1,x2,x3,x4)"
   ]
  },
  {
   "cell_type": "markdown",
   "metadata": {},
   "source": [
    "For more details about the notation and formulas please check:\n",
    "\n",
    "[Penn State](https://newonlinecourses.science.psu.edu/stat502/lesson/2/2.2)"
   ]
  }
 ],
 "metadata": {
  "kernelspec": {
   "display_name": "Python 3",
   "language": "python",
   "name": "python3"
  },
  "language_info": {
   "codemirror_mode": {
    "name": "ipython",
    "version": 3
   },
   "file_extension": ".py",
   "mimetype": "text/x-python",
   "name": "python",
   "nbconvert_exporter": "python",
   "pygments_lexer": "ipython3",
   "version": "3.7.3"
  }
 },
 "nbformat": 4,
 "nbformat_minor": 2
}
