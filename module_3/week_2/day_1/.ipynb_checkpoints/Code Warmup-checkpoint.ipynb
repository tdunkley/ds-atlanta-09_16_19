{
 "cells": [
  {
   "cell_type": "markdown",
   "metadata": {},
   "source": [
    "## Question 1\n",
    "Suppose that the scores on a standardized test are normally distributed with $\\mu = 500$ and \n",
    "$\\sigma = 100$. What is the 75th percentile score for this test?"
   ]
  },
  {
   "cell_type": "markdown",
   "metadata": {},
   "source": [
    "## Question 2\n",
    "Suppose in a weekly state lottery, five of the numbers 0, 1, .. ., 49 are selected without replacement at random, and someone holding exactly those numbers wins the lottery. What is the probability that someone holding one ticket will be the winner in a given week?"
   ]
  },
  {
   "cell_type": "markdown",
   "metadata": {},
   "source": [
    "## Question 3\n",
    "In five-card poker, a player is given 5 cards from a\n",
    "full deck of 52 cards at random. What is the probability of obtaining two pairs?"
   ]
  },
  {
   "cell_type": "markdown",
   "metadata": {},
   "source": [
    "## Bonus Question \n",
    "We want to test the effectiveness of a new webpage layout. We setup the hypothesis\n",
    "\n",
    "\n",
    "${H_0:\\mu=15\\ (new\\ webpage\\ layout\\ is\\ ineffective)}$ \n",
    "\n",
    "\n",
    "${vs.\\ H_1:\\mu > 15\\ (new\\ webpage\\ layout\\ increases\\ number\\ of\\ clicks)}$\n",
    " \n",
    " \n",
    "The hypothesis is tested by rejecting $H_0$ if $\\bar{x}$ > 25, where $\\bar{x}$ is the mean \n",
    "\n",
    "\n",
    "change in number of clicks from a sample of 20 visitors with a standard deviation of 40. \n",
    "\n",
    "Calculate the error probabilities of this decision rule (type I and II errors)\n"
   ]
  }
 ],
 "metadata": {
  "kernelspec": {
   "display_name": "Python 3",
   "language": "python",
   "name": "python3"
  },
  "language_info": {
   "codemirror_mode": {
    "name": "ipython",
    "version": 3
   },
   "file_extension": ".py",
   "mimetype": "text/x-python",
   "name": "python",
   "nbconvert_exporter": "python",
   "pygments_lexer": "ipython3",
   "version": "3.7.3"
  }
 },
 "nbformat": 4,
 "nbformat_minor": 2
}
