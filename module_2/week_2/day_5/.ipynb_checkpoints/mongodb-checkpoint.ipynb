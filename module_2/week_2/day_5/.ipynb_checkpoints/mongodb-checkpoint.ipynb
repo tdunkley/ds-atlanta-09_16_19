{
 "cells": [
  {
   "attachments": {
    "MongoDB-Logo.svg": {
     "image/svg+xml": [
      "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"
     ]
    }
   },
   "cell_type": "markdown",
   "metadata": {},
   "source": [
    "![MongoDB-Logo.svg](attachment:MongoDB-Logo.svg)"
   ]
  },
  {
   "cell_type": "markdown",
   "metadata": {},
   "source": [
    "## Objectives"
   ]
  },
  {
   "cell_type": "markdown",
   "metadata": {},
   "source": [
    "- Why [NoSQL](https://docs.google.com/presentation/d/1yJ0Fm8J5Znk0dfC11BUCnfeV2eSUjTWQm5AxTQMC11U/edit?usp=sharing)?\n",
    "- Why use MongoDB\n",
    "- Example of MongoDB"
   ]
  },
  {
   "cell_type": "markdown",
   "metadata": {},
   "source": [
    "### Advantages of MongoDB over RDBMS"
   ]
  },
  {
   "cell_type": "markdown",
   "metadata": {},
   "source": [
    "- **Schema less** − MongoDB is a document database in which one collection holds different documents. Number of fields, content and size of the document can differ from one document to another.\n",
    "\n",
    "- Structure of a single object is clear.\n",
    "\n",
    "- No complex joins.\n",
    "\n",
    "- Deep query-ability. MongoDB supports dynamic queries on documents using a document-based query language that's nearly as powerful as SQL.\n",
    "\n",
    "- Tuning.\n",
    "\n",
    "- **Ease of scale-out** − MongoDB is easy to scale.\n",
    "\n",
    "- Conversion/mapping of application objects to database objects not needed.\n",
    "\n",
    "- Uses internal memory for storing the (windowed) working set, enabling faster access of data"
   ]
  },
  {
   "cell_type": "markdown",
   "metadata": {},
   "source": [
    "### Why Use MongoDB?"
   ]
  },
  {
   "cell_type": "markdown",
   "metadata": {},
   "source": [
    "- **Document Oriented Storage** − Data is stored in the form of JSON style documents.\n",
    "\n",
    "- Index on any attribute\n",
    "\n",
    "- Replication and high availability\n",
    "\n",
    "- Auto-sharding\n",
    "\n",
    "- Rich queries\n",
    "\n",
    "- Fast in-place updates\n",
    "\n",
    "- Professional support by MongoDB"
   ]
  },
  {
   "cell_type": "markdown",
   "metadata": {},
   "source": [
    "### Where to Use MongoDB?"
   ]
  },
  {
   "cell_type": "markdown",
   "metadata": {},
   "source": [
    "- Big Data\n",
    "- Content Management and Delivery\n",
    "- Mobile and Social Infrastructure\n",
    "- User Data Management\n",
    "- Data Hub"
   ]
  },
  {
   "cell_type": "markdown",
   "metadata": {},
   "source": [
    "#### Documentation\n",
    "[The MongoDB 4.2 Manual](https://docs.mongodb.com/manual/)"
   ]
  },
  {
   "cell_type": "code",
   "execution_count": null,
   "metadata": {},
   "outputs": [],
   "source": [
    "#conda install mongodb"
   ]
  },
  {
   "cell_type": "code",
   "execution_count": null,
   "metadata": {},
   "outputs": [],
   "source": [
    "import pymongo"
   ]
  },
  {
   "cell_type": "code",
   "execution_count": null,
   "metadata": {},
   "outputs": [],
   "source": [
    "myclient = pymongo.MongoClient(\"mongodb://127.0.0.1:27017/\")\n",
    "mydb = myclient['example_database']"
   ]
  },
  {
   "cell_type": "code",
   "execution_count": null,
   "metadata": {},
   "outputs": [],
   "source": [
    "print(myclient.list_database_names())"
   ]
  },
  {
   "cell_type": "code",
   "execution_count": null,
   "metadata": {},
   "outputs": [],
   "source": [
    "mycollection = mydb['example_collection']"
   ]
  },
  {
   "cell_type": "markdown",
   "metadata": {},
   "source": [
    "### Create, read, update and delete (CRUD) Operations with `pymongo`\n"
   ]
  },
  {
   "cell_type": "code",
   "execution_count": null,
   "metadata": {},
   "outputs": [],
   "source": [
    "example_customer_data = {'name': 'John Doe', 'address': '123 elm street', 'age': 28}\n",
    "\n",
    "results = mycollection.insert_one(example_customer_data)\n",
    "results"
   ]
  },
  {
   "cell_type": "code",
   "execution_count": null,
   "metadata": {},
   "outputs": [],
   "source": [
    "results.inserted_id"
   ]
  },
  {
   "cell_type": "code",
   "execution_count": null,
   "metadata": {},
   "outputs": [],
   "source": [
    "customer_2 = {'name': 'Jane Doe', 'address': '234 elm street', 'age': 7}\n",
    "customer_3 = {'name': 'Santa Claus', 'address': 'The North Pole', 'age': 547}\n",
    "customer_4 = {'name': 'John Doe jr.', 'address': '', 'age': 0.5}\n",
    "\n",
    "list_of_customers = [customer_2, customer_3, customer_4]\n",
    "\n",
    "results_2 = mycollection.insert_many(list_of_customers)"
   ]
  },
  {
   "cell_type": "code",
   "execution_count": null,
   "metadata": {},
   "outputs": [],
   "source": [
    "results_2.inserted_ids"
   ]
  },
  {
   "cell_type": "markdown",
   "metadata": {},
   "source": [
    "### Querying data in Python\n"
   ]
  },
  {
   "cell_type": "code",
   "execution_count": null,
   "metadata": {},
   "outputs": [],
   "source": [
    "query_1 = mycollection.find({})\n",
    "for x in query_1:\n",
    "    print(x)"
   ]
  },
  {
   "cell_type": "code",
   "execution_count": null,
   "metadata": {},
   "outputs": [],
   "source": [
    "query_2 = mycollection.find({}, {'_id': 1, 'name': 1, 'address': 1})\n",
    "for item in query_2:\n",
    "    print(item)"
   ]
  },
  {
   "cell_type": "code",
   "execution_count": null,
   "metadata": {},
   "outputs": [],
   "source": [
    "query_3 = mycollection.find({}, {'age': 0})\n",
    "for item in query_3:\n",
    "    print(item)"
   ]
  },
  {
   "cell_type": "markdown",
   "metadata": {},
   "source": [
    "### Filtering Query Results\n"
   ]
  },
  {
   "cell_type": "markdown",
   "metadata": {},
   "source": [
    "For instance, if we know the value for a given key, we can pass that key-value pair (or pairs) into `.find()` as a dictionary, and the results will contain the entire document. "
   ]
  },
  {
   "cell_type": "code",
   "execution_count": null,
   "metadata": {},
   "outputs": [],
   "source": [
    "query_4 = mycollection.find({'name': 'Santa Claus'})\n",
    "for item in query_4:\n",
    "    print(item)"
   ]
  },
  {
   "cell_type": "code",
   "execution_count": null,
   "metadata": {},
   "outputs": [],
   "source": [
    "query_5 = mycollection.find({\"age\": {\"$gt\": 20}})\n",
    "for item in query_5:\n",
    "    print(item)"
   ]
  },
  {
   "cell_type": "markdown",
   "metadata": {},
   "source": [
    "## Updating Documents\n"
   ]
  },
  {
   "cell_type": "code",
   "execution_count": null,
   "metadata": {},
   "outputs": [],
   "source": [
    "record_to_update = {'name' : 'John Doe'}\n",
    "update_1 = {'$set': {'age': 29}}\n",
    "update_2 = {'$set': {'birthday': '02/20/1986'}}\n",
    "\n",
    "mycollection.update_one(record_to_update, update_1)\n",
    "mycollection.update_one(record_to_update, update_2)\n",
    "query_6 = mycollection.find({'name': 'John Doe'})\n",
    "for item in query_6:\n",
    "    print(item)"
   ]
  },
  {
   "cell_type": "markdown",
   "metadata": {},
   "source": [
    "### Deleting Records\n"
   ]
  },
  {
   "cell_type": "code",
   "execution_count": null,
   "metadata": {},
   "outputs": [],
   "source": [
    "deletion_1 = mycollection.delete_one({'name': 'John Doe'})\n",
    "print(deletion_1.deleted_count)"
   ]
  },
  {
   "cell_type": "code",
   "execution_count": null,
   "metadata": {},
   "outputs": [],
   "source": [
    "deletion_2 = mycollection.delete_one({'age': {'$lt': 10}})\n",
    "print(deletion_2.deleted_count)"
   ]
  },
  {
   "cell_type": "code",
   "execution_count": null,
   "metadata": {},
   "outputs": [],
   "source": [
    "query_6 = mycollection.find({})\n",
    "for item in query_6:\n",
    "    print(item)"
   ]
  },
  {
   "cell_type": "markdown",
   "metadata": {},
   "source": [
    "### Delete the entire collection "
   ]
  },
  {
   "cell_type": "code",
   "execution_count": null,
   "metadata": {},
   "outputs": [],
   "source": [
    "mycollection.delete_many({})"
   ]
  }
 ],
 "metadata": {
  "kernelspec": {
   "display_name": "Python 3",
   "language": "python",
   "name": "python3"
  },
  "language_info": {
   "codemirror_mode": {
    "name": "ipython",
    "version": 3
   },
   "file_extension": ".py",
   "mimetype": "text/x-python",
   "name": "python",
   "nbconvert_exporter": "python",
   "pygments_lexer": "ipython3",
   "version": "3.7.3"
  }
 },
 "nbformat": 4,
 "nbformat_minor": 2
}
