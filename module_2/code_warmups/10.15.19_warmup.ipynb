{
 "cells": [
  {
   "cell_type": "markdown",
   "metadata": {},
   "source": [
    "## Solution 7 -- List Comprehensions\n",
    "### Some helpful tips to remember about List Comprehensions\n",
    "- List comprehensions are elegant ways to define and create lists based on existing lists.\n",
    "\n",
    "- List comprehensions are generally more compact and faster than normal functions and loops.\n",
    "\n",
    "- Try to avoid writing very long list comprehensions.\n",
    "\n",
    "- Every list comprehension can be rewritten using a for loop, but every for loop can’t be rewritten in the form of list comprehension.\n",
    "\n",
    "Here is a list of Amber's TV shows(some are her favorites, some are not). Create a for loop for the tv-shows that start with a B. Then do the same thing but with a list comprehension."
   ]
  },
  {
   "cell_type": "code",
   "execution_count": null,
   "metadata": {},
   "outputs": [],
   "source": [
    "tv_shows = ['Battlestar Gallactica', 'Lost', 'Star Trek', 'Breaking Bad', 'Babylon 5', 'The Americans', \n",
    "            'Downton Abbey', 'Survivor', 'Glow', 'Big Love', 'Game of Thrones']"
   ]
  },
  {
   "cell_type": "code",
   "execution_count": null,
   "metadata": {},
   "outputs": [],
   "source": [
    "#for loop\n",
    "#output -- ['Battlestar Gallactica', 'Breaking Bad', 'Babylon 5', 'Big Love']"
   ]
  },
  {
   "cell_type": "code",
   "execution_count": null,
   "metadata": {},
   "outputs": [],
   "source": [
    "#list comprehension "
   ]
  },
  {
   "cell_type": "markdown",
   "metadata": {},
   "source": [
    "Here is the same list from above but now it is a list of tuples with a 1-5 grade Amber has given to each show. Create a list comprehension that prints Amber's highest rated shows"
   ]
  },
  {
   "cell_type": "code",
   "execution_count": null,
   "metadata": {},
   "outputs": [],
   "source": [
    "#List of tuples with Amber's rating(1-5) of the shows \n",
    "tv_shows = [('Battlestar Gallactica', 5), ('Lost', 5), ('Star Trek', 5), ('Breaking Bad', 4), ('Babylon 5', 3), \n",
    "            ('The Americans', 3), ('Downton Abbey', 4), ('Survivor', 5), ('Glow', 2), ('Big Love', 3), \n",
    "            ('Game of Thrones', 4)]"
   ]
  },
  {
   "cell_type": "code",
   "execution_count": null,
   "metadata": {},
   "outputs": [],
   "source": [
    "#list comprehension\n",
    "#output -- ['Battlestar Gallactica', 'Lost', 'Star Trek', 'Survivor']"
   ]
  },
  {
   "cell_type": "markdown",
   "metadata": {},
   "source": [
    "Here is a link to a super helpful and short video on list comprehensions. If you skip to 3:20 there is a detailed overview of how to break down the problem above. https://www.youtube.com/watch?v=AhSvKGTh28Q"
   ]
  }
 ],
 "metadata": {
  "kernelspec": {
   "display_name": "learn-env",
   "language": "python",
   "name": "learn-env"
  },
  "language_info": {
   "codemirror_mode": {
    "name": "ipython",
    "version": 3
   },
   "file_extension": ".py",
   "mimetype": "text/x-python",
   "name": "python",
   "nbconvert_exporter": "python",
   "pygments_lexer": "ipython3",
   "version": "3.7.3"
  }
 },
 "nbformat": 4,
 "nbformat_minor": 2
}
