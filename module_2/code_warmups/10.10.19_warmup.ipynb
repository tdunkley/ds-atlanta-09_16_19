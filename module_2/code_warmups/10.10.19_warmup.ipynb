{
 "cells": [
  {
   "cell_type": "markdown",
   "metadata": {},
   "source": [
    "<font face=\"verdana\" size=\"3\">This is a dictionary of Scrabble letters and their representative values. Write a function that returns the score of a word that is passed to it. It should work for any word but lets all try cabbage.</font> ![](attachment:image.png)"
   ]
  },
  {
   "cell_type": "code",
   "execution_count": 3,
   "metadata": {},
   "outputs": [],
   "source": [
    "values = {\n",
    "    'a': 1,\n",
    "    'e': 1,\n",
    "    'i': 1,\n",
    "    'o': 1,\n",
    "    'u': 1,\n",
    "    'l': 1,\n",
    "    'n': 1,\n",
    "    'r': 1,\n",
    "    's': 1,\n",
    "    't': 1,\n",
    "    'd': 2,\n",
    "    'g': 2,\n",
    "    'b': 3,\n",
    "    'c': 3,\n",
    "    'm': 3,\n",
    "    'p': 3,\n",
    "    'f': 4,\n",
    "    'h': 4,\n",
    "    'v': 4,\n",
    "    'w': 4,\n",
    "    'y': 4,\n",
    "    'k': 5,\n",
    "    'j': 8,\n",
    "    'x': 8,\n",
    "    'q': 10,\n",
    "    'z': 10,\n",
    "}\n",
    "\n",
    "\n",
    "def score(word):\n",
    "    count = 0\n",
    "    for x in word:\n",
    "        count += values[x]\n",
    "    return count"
   ]
  },
  {
   "cell_type": "code",
   "execution_count": 4,
   "metadata": {},
   "outputs": [
    {
     "data": {
      "text/plain": [
       "14"
      ]
     },
     "execution_count": 4,
     "metadata": {},
     "output_type": "execute_result"
    }
   ],
   "source": [
    "score('cabbage') #14"
   ]
  },
  {
   "cell_type": "code",
   "execution_count": 1,
   "metadata": {},
   "outputs": [
    {
     "data": {
      "text/plain": [
       "['c', 'a', 'b', 'b', 'a', 'g', 'e']"
      ]
     },
     "execution_count": 1,
     "metadata": {},
     "output_type": "execute_result"
    }
   ],
   "source": [
    "# list(map(lambda i:i, 'cabbage')) \n",
    "for i in ('cabbage')"
   ]
  },
  {
   "cell_type": "code",
   "execution_count": null,
   "metadata": {},
   "outputs": [],
   "source": []
  }
 ],
 "metadata": {
  "kernelspec": {
   "display_name": "Python 3",
   "language": "python",
   "name": "python3"
  },
  "language_info": {
   "codemirror_mode": {
    "name": "ipython",
    "version": 3
   },
   "file_extension": ".py",
   "mimetype": "text/x-python",
   "name": "python",
   "nbconvert_exporter": "python",
   "pygments_lexer": "ipython3",
   "version": "3.6.6"
  }
 },
 "nbformat": 4,
 "nbformat_minor": 2
}
